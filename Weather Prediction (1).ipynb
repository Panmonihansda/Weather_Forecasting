{
 "cells": [
  {
   "cell_type": "markdown",
   "id": "8b35760e-1c59-493b-8465-d8bf1299104b",
   "metadata": {},
   "source": [
    "#### Importing necessary libraries"
   ]
  },
  {
   "cell_type": "code",
   "execution_count": 45,
   "id": "411381cd-6a11-4141-ba45-edc93e800070",
   "metadata": {},
   "outputs": [],
   "source": [
    "import pandas as pd\n",
    "import numpy as np\n",
    "import matplotlib.pyplot as plt \n",
    "import seaborn as sns"
   ]
  },
  {
   "cell_type": "code",
   "execution_count": 46,
   "id": "ac0ce017-3ef2-4eda-8cfe-6625f404aaae",
   "metadata": {},
   "outputs": [],
   "source": [
    "df = pd.read_csv('Dataset11-Weather-Data.csv')"
   ]
  },
  {
   "cell_type": "code",
   "execution_count": 47,
   "id": "dd9ffe24-f25d-49d1-ac8e-e0bd36d0ef06",
   "metadata": {},
   "outputs": [
    {
     "data": {
      "text/html": [
       "<div>\n",
       "<style scoped>\n",
       "    .dataframe tbody tr th:only-of-type {\n",
       "        vertical-align: middle;\n",
       "    }\n",
       "\n",
       "    .dataframe tbody tr th {\n",
       "        vertical-align: top;\n",
       "    }\n",
       "\n",
       "    .dataframe thead th {\n",
       "        text-align: right;\n",
       "    }\n",
       "</style>\n",
       "<table border=\"1\" class=\"dataframe\">\n",
       "  <thead>\n",
       "    <tr style=\"text-align: right;\">\n",
       "      <th></th>\n",
       "      <th>Date/Time</th>\n",
       "      <th>Temp_C</th>\n",
       "      <th>Dew Point Temp_C</th>\n",
       "      <th>Rel Hum_%</th>\n",
       "      <th>Wind Speed_km/h</th>\n",
       "      <th>Visibility_km</th>\n",
       "      <th>Press_kPa</th>\n",
       "      <th>Weather</th>\n",
       "    </tr>\n",
       "  </thead>\n",
       "  <tbody>\n",
       "    <tr>\n",
       "      <th>0</th>\n",
       "      <td>1/1/2012 0:00</td>\n",
       "      <td>-1.8</td>\n",
       "      <td>-3.9</td>\n",
       "      <td>86</td>\n",
       "      <td>4</td>\n",
       "      <td>8.0</td>\n",
       "      <td>101.24</td>\n",
       "      <td>Fog</td>\n",
       "    </tr>\n",
       "    <tr>\n",
       "      <th>1</th>\n",
       "      <td>1/1/2012 1:00</td>\n",
       "      <td>-1.8</td>\n",
       "      <td>-3.7</td>\n",
       "      <td>87</td>\n",
       "      <td>4</td>\n",
       "      <td>8.0</td>\n",
       "      <td>101.24</td>\n",
       "      <td>Fog</td>\n",
       "    </tr>\n",
       "    <tr>\n",
       "      <th>2</th>\n",
       "      <td>1/1/2012 2:00</td>\n",
       "      <td>-1.8</td>\n",
       "      <td>-3.4</td>\n",
       "      <td>89</td>\n",
       "      <td>7</td>\n",
       "      <td>4.0</td>\n",
       "      <td>101.26</td>\n",
       "      <td>Freezing Drizzle,Fog</td>\n",
       "    </tr>\n",
       "    <tr>\n",
       "      <th>3</th>\n",
       "      <td>1/1/2012 3:00</td>\n",
       "      <td>-1.5</td>\n",
       "      <td>-3.2</td>\n",
       "      <td>88</td>\n",
       "      <td>6</td>\n",
       "      <td>4.0</td>\n",
       "      <td>101.27</td>\n",
       "      <td>Freezing Drizzle,Fog</td>\n",
       "    </tr>\n",
       "    <tr>\n",
       "      <th>4</th>\n",
       "      <td>1/1/2012 4:00</td>\n",
       "      <td>-1.5</td>\n",
       "      <td>-3.3</td>\n",
       "      <td>88</td>\n",
       "      <td>7</td>\n",
       "      <td>4.8</td>\n",
       "      <td>101.23</td>\n",
       "      <td>Fog</td>\n",
       "    </tr>\n",
       "  </tbody>\n",
       "</table>\n",
       "</div>"
      ],
      "text/plain": [
       "       Date/Time  Temp_C  Dew Point Temp_C  Rel Hum_%  Wind Speed_km/h  \\\n",
       "0  1/1/2012 0:00    -1.8              -3.9         86                4   \n",
       "1  1/1/2012 1:00    -1.8              -3.7         87                4   \n",
       "2  1/1/2012 2:00    -1.8              -3.4         89                7   \n",
       "3  1/1/2012 3:00    -1.5              -3.2         88                6   \n",
       "4  1/1/2012 4:00    -1.5              -3.3         88                7   \n",
       "\n",
       "   Visibility_km  Press_kPa               Weather  \n",
       "0            8.0     101.24                   Fog  \n",
       "1            8.0     101.24                   Fog  \n",
       "2            4.0     101.26  Freezing Drizzle,Fog  \n",
       "3            4.0     101.27  Freezing Drizzle,Fog  \n",
       "4            4.8     101.23                   Fog  "
      ]
     },
     "execution_count": 47,
     "metadata": {},
     "output_type": "execute_result"
    }
   ],
   "source": [
    "df.head()"
   ]
  },
  {
   "cell_type": "code",
   "execution_count": 48,
   "id": "f093d51a-6bee-43dc-8af4-f183afb25a3a",
   "metadata": {},
   "outputs": [
    {
     "data": {
      "text/plain": [
       "(8784, 8)"
      ]
     },
     "execution_count": 48,
     "metadata": {},
     "output_type": "execute_result"
    }
   ],
   "source": [
    "df.shape"
   ]
  },
  {
   "cell_type": "code",
   "execution_count": 49,
   "id": "a3e1afe9-2752-4d48-9523-fcb443c93dc9",
   "metadata": {},
   "outputs": [
    {
     "data": {
      "text/plain": [
       "Index(['Date/Time', 'Temp_C', 'Dew Point Temp_C', 'Rel Hum_%',\n",
       "       'Wind Speed_km/h', 'Visibility_km', 'Press_kPa', 'Weather'],\n",
       "      dtype='object')"
      ]
     },
     "execution_count": 49,
     "metadata": {},
     "output_type": "execute_result"
    }
   ],
   "source": [
    "df.columns"
   ]
  },
  {
   "cell_type": "code",
   "execution_count": 50,
   "id": "3b80d4d1-87d3-4884-aab8-272669f10014",
   "metadata": {},
   "outputs": [
    {
     "data": {
      "text/plain": [
       "Date/Time            object\n",
       "Temp_C              float64\n",
       "Dew Point Temp_C    float64\n",
       "Rel Hum_%             int64\n",
       "Wind Speed_km/h       int64\n",
       "Visibility_km       float64\n",
       "Press_kPa           float64\n",
       "Weather              object\n",
       "dtype: object"
      ]
     },
     "execution_count": 50,
     "metadata": {},
     "output_type": "execute_result"
    }
   ],
   "source": [
    "df.dtypes"
   ]
  },
  {
   "cell_type": "code",
   "execution_count": 51,
   "id": "4107a193-a9df-4340-9799-e5ba1ac3b09a",
   "metadata": {},
   "outputs": [
    {
     "name": "stdout",
     "output_type": "stream",
     "text": [
      "<class 'pandas.core.frame.DataFrame'>\n",
      "RangeIndex: 8784 entries, 0 to 8783\n",
      "Data columns (total 8 columns):\n",
      " #   Column            Non-Null Count  Dtype  \n",
      "---  ------            --------------  -----  \n",
      " 0   Date/Time         8784 non-null   object \n",
      " 1   Temp_C            8784 non-null   float64\n",
      " 2   Dew Point Temp_C  8784 non-null   float64\n",
      " 3   Rel Hum_%         8784 non-null   int64  \n",
      " 4   Wind Speed_km/h   8784 non-null   int64  \n",
      " 5   Visibility_km     8784 non-null   float64\n",
      " 6   Press_kPa         8784 non-null   float64\n",
      " 7   Weather           8784 non-null   object \n",
      "dtypes: float64(4), int64(2), object(2)\n",
      "memory usage: 549.1+ KB\n"
     ]
    }
   ],
   "source": [
    "df.info()"
   ]
  },
  {
   "cell_type": "code",
   "execution_count": 52,
   "id": "200d27b4-e43e-47e8-a97c-f77f0271121b",
   "metadata": {},
   "outputs": [
    {
     "data": {
      "text/plain": [
       "Weather\n",
       "Mainly Clear                               2106\n",
       "Mostly Cloudy                              2069\n",
       "Cloudy                                     1728\n",
       "Clear                                      1326\n",
       "Snow                                        390\n",
       "Rain                                        306\n",
       "Rain Showers                                188\n",
       "Fog                                         150\n",
       "Rain,Fog                                    116\n",
       "Drizzle,Fog                                  80\n",
       "Snow Showers                                 60\n",
       "Drizzle                                      41\n",
       "Snow,Fog                                     37\n",
       "Snow,Blowing Snow                            19\n",
       "Rain,Snow                                    18\n",
       "Thunderstorms,Rain Showers                   16\n",
       "Haze                                         16\n",
       "Drizzle,Snow,Fog                             15\n",
       "Freezing Rain                                14\n",
       "Freezing Drizzle,Snow                        11\n",
       "Freezing Drizzle                              7\n",
       "Snow,Ice Pellets                              6\n",
       "Freezing Drizzle,Fog                          6\n",
       "Snow,Haze                                     5\n",
       "Freezing Fog                                  4\n",
       "Snow Showers,Fog                              4\n",
       "Moderate Snow                                 4\n",
       "Rain,Snow,Ice Pellets                         4\n",
       "Freezing Rain,Fog                             4\n",
       "Freezing Drizzle,Haze                         3\n",
       "Rain,Haze                                     3\n",
       "Thunderstorms,Rain                            3\n",
       "Thunderstorms,Rain Showers,Fog                3\n",
       "Freezing Rain,Haze                            2\n",
       "Drizzle,Snow                                  2\n",
       "Rain Showers,Snow Showers                     2\n",
       "Thunderstorms                                 2\n",
       "Moderate Snow,Blowing Snow                    2\n",
       "Rain Showers,Fog                              1\n",
       "Thunderstorms,Moderate Rain Showers,Fog       1\n",
       "Snow Pellets                                  1\n",
       "Rain,Snow,Fog                                 1\n",
       "Moderate Rain,Fog                             1\n",
       "Freezing Rain,Ice Pellets,Fog                 1\n",
       "Drizzle,Ice Pellets,Fog                       1\n",
       "Thunderstorms,Rain,Fog                        1\n",
       "Rain,Ice Pellets                              1\n",
       "Rain,Snow Grains                              1\n",
       "Thunderstorms,Heavy Rain Showers              1\n",
       "Freezing Rain,Snow Grains                     1\n",
       "Name: count, dtype: int64"
      ]
     },
     "execution_count": 52,
     "metadata": {},
     "output_type": "execute_result"
    }
   ],
   "source": [
    "df.Weather.value_counts()"
   ]
  },
  {
   "cell_type": "code",
   "execution_count": 53,
   "id": "5595c1f3-f177-495d-94f5-163de98afd6f",
   "metadata": {},
   "outputs": [
    {
     "data": {
      "text/plain": [
       "array(['Fog', 'Freezing Drizzle,Fog', 'Mostly Cloudy', 'Cloudy', 'Rain',\n",
       "       'Rain Showers', 'Mainly Clear', 'Snow Showers', 'Snow', 'Clear',\n",
       "       'Freezing Rain,Fog', 'Freezing Rain', 'Freezing Drizzle',\n",
       "       'Rain,Snow', 'Moderate Snow', 'Freezing Drizzle,Snow',\n",
       "       'Freezing Rain,Snow Grains', 'Snow,Blowing Snow', 'Freezing Fog',\n",
       "       'Haze', 'Rain,Fog', 'Drizzle,Fog', 'Drizzle',\n",
       "       'Freezing Drizzle,Haze', 'Freezing Rain,Haze', 'Snow,Haze',\n",
       "       'Snow,Fog', 'Snow,Ice Pellets', 'Rain,Haze', 'Thunderstorms,Rain',\n",
       "       'Thunderstorms,Rain Showers', 'Thunderstorms,Heavy Rain Showers',\n",
       "       'Thunderstorms,Rain Showers,Fog', 'Thunderstorms',\n",
       "       'Thunderstorms,Rain,Fog',\n",
       "       'Thunderstorms,Moderate Rain Showers,Fog', 'Rain Showers,Fog',\n",
       "       'Rain Showers,Snow Showers', 'Snow Pellets', 'Rain,Snow,Fog',\n",
       "       'Moderate Rain,Fog', 'Freezing Rain,Ice Pellets,Fog',\n",
       "       'Drizzle,Ice Pellets,Fog', 'Drizzle,Snow', 'Rain,Ice Pellets',\n",
       "       'Drizzle,Snow,Fog', 'Rain,Snow Grains', 'Rain,Snow,Ice Pellets',\n",
       "       'Snow Showers,Fog', 'Moderate Snow,Blowing Snow'], dtype=object)"
      ]
     },
     "execution_count": 53,
     "metadata": {},
     "output_type": "execute_result"
    }
   ],
   "source": [
    "df.Weather.unique()"
   ]
  },
  {
   "cell_type": "code",
   "execution_count": 54,
   "id": "5eee8cd6-9c0d-4a7c-ad27-c6827984aea4",
   "metadata": {},
   "outputs": [
    {
     "data": {
      "text/plain": [
       "50"
      ]
     },
     "execution_count": 54,
     "metadata": {},
     "output_type": "execute_result"
    }
   ],
   "source": [
    "df.Weather.nunique()"
   ]
  },
  {
   "cell_type": "markdown",
   "id": "c093e711-b69b-4d6b-b383-444981404d3b",
   "metadata": {},
   "source": [
    "##### Converting the Weather Categories into Standard Categories"
   ]
  },
  {
   "cell_type": "code",
   "execution_count": 55,
   "id": "f8a76b33-c8b8-467b-81be-251a035d8769",
   "metadata": {},
   "outputs": [],
   "source": [
    "x = 'Thunderstorms,Moderate Rain,Fog'"
   ]
  },
  {
   "cell_type": "markdown",
   "id": "549ca9a6-57fb-4811-a10b-068daa17315c",
   "metadata": {},
   "source": [
    "list_of_lists = [w.split() for w in x.split(',')]\n",
    "list_of_lists"
   ]
  },
  {
   "cell_type": "code",
   "execution_count": 56,
   "id": "613c0681-c7d8-4433-bbe2-38c94e0302a3",
   "metadata": {},
   "outputs": [
    {
     "data": {
      "text/plain": [
       "[['Thunderstorms'], ['Moderate', 'Rain'], ['Fog']]"
      ]
     },
     "execution_count": 56,
     "metadata": {},
     "output_type": "execute_result"
    }
   ],
   "source": [
    "list_of_lists = [w.split() for w in x.split(',')] \n",
    "list_of_lists"
   ]
  },
  {
   "cell_type": "code",
   "execution_count": 57,
   "id": "4d5fe040-2602-4f24-84f0-9047271b925b",
   "metadata": {},
   "outputs": [
    {
     "data": {
      "text/plain": [
       "['Thunderstorms', 'Moderate', 'Rain', 'Fog']"
      ]
     },
     "execution_count": 57,
     "metadata": {},
     "output_type": "execute_result"
    }
   ],
   "source": [
    "from itertools import chain\n",
    "flat_list = list(chain(*list_of_lists))\n",
    "flat_list\n",
    "                 "
   ]
  },
  {
   "cell_type": "code",
   "execution_count": 58,
   "id": "6aaac753-5ec6-4e87-ab97-22a0614f7205",
   "metadata": {},
   "outputs": [],
   "source": [
    "def Create_list(x):\n",
    "    list_of_lists = [w.split() for w in x.split(',')] \n",
    "    flat_list = list(chain(*list_of_lists))\n",
    "    return flat_list\n",
    "\n",
    "def Get_Weather(list1):\n",
    "    if 'Fog' in list1 and 'Rain' in list1:\n",
    "        return 'RAIN+FOG'\n",
    "    elif 'Snow' in list1 and 'Rain' in list1:\n",
    "        return 'SNOW+Rain'\n",
    "        \n",
    "    elif 'Snow' in list1:\n",
    "        return 'SNOW'\n",
    "    elif 'Rain' in list1:\n",
    "        return 'RAIN'\n",
    "    elif 'Fog' in list1:\n",
    "        return 'FOG'\n",
    "    elif 'Clear' in list1:\n",
    "        return 'CLEAR'\n",
    "    elif 'Cloudy' in list1:\n",
    "        return 'Cloudy'\n",
    "    else:\n",
    "        return 'RAIN'\n"
   ]
  },
  {
   "cell_type": "code",
   "execution_count": 59,
   "id": "46769ccf-cd42-4c12-9e0c-b1dbdff2dfb6",
   "metadata": {},
   "outputs": [
    {
     "data": {
      "text/plain": [
       "['Thunderstorms', 'Moderate', 'Rain', 'Fog']"
      ]
     },
     "execution_count": 59,
     "metadata": {},
     "output_type": "execute_result"
    }
   ],
   "source": [
    "Create_list(x)"
   ]
  },
  {
   "cell_type": "code",
   "execution_count": 60,
   "id": "bcdb1c2c-7b1f-488d-b8fd-1c8943cc4ca7",
   "metadata": {},
   "outputs": [
    {
     "data": {
      "text/plain": [
       "'RAIN+FOG'"
      ]
     },
     "execution_count": 60,
     "metadata": {},
     "output_type": "execute_result"
    }
   ],
   "source": [
    "Get_Weather(Create_list(x))"
   ]
  },
  {
   "cell_type": "code",
   "execution_count": 61,
   "id": "3b1744fa-07d8-465e-870f-ee6a60e16c20",
   "metadata": {},
   "outputs": [],
   "source": [
    "df['Std_Weather'] = df['Weather'].apply(lambda x : Get_Weather(Create_list(x)))"
   ]
  },
  {
   "cell_type": "code",
   "execution_count": 62,
   "id": "099383f9-05a1-4c8a-a782-832ee99baeef",
   "metadata": {},
   "outputs": [
    {
     "data": {
      "text/html": [
       "<div>\n",
       "<style scoped>\n",
       "    .dataframe tbody tr th:only-of-type {\n",
       "        vertical-align: middle;\n",
       "    }\n",
       "\n",
       "    .dataframe tbody tr th {\n",
       "        vertical-align: top;\n",
       "    }\n",
       "\n",
       "    .dataframe thead th {\n",
       "        text-align: right;\n",
       "    }\n",
       "</style>\n",
       "<table border=\"1\" class=\"dataframe\">\n",
       "  <thead>\n",
       "    <tr style=\"text-align: right;\">\n",
       "      <th></th>\n",
       "      <th>Date/Time</th>\n",
       "      <th>Temp_C</th>\n",
       "      <th>Dew Point Temp_C</th>\n",
       "      <th>Rel Hum_%</th>\n",
       "      <th>Wind Speed_km/h</th>\n",
       "      <th>Visibility_km</th>\n",
       "      <th>Press_kPa</th>\n",
       "      <th>Weather</th>\n",
       "      <th>Std_Weather</th>\n",
       "    </tr>\n",
       "  </thead>\n",
       "  <tbody>\n",
       "    <tr>\n",
       "      <th>0</th>\n",
       "      <td>1/1/2012 0:00</td>\n",
       "      <td>-1.8</td>\n",
       "      <td>-3.9</td>\n",
       "      <td>86</td>\n",
       "      <td>4</td>\n",
       "      <td>8.0</td>\n",
       "      <td>101.24</td>\n",
       "      <td>Fog</td>\n",
       "      <td>FOG</td>\n",
       "    </tr>\n",
       "    <tr>\n",
       "      <th>1</th>\n",
       "      <td>1/1/2012 1:00</td>\n",
       "      <td>-1.8</td>\n",
       "      <td>-3.7</td>\n",
       "      <td>87</td>\n",
       "      <td>4</td>\n",
       "      <td>8.0</td>\n",
       "      <td>101.24</td>\n",
       "      <td>Fog</td>\n",
       "      <td>FOG</td>\n",
       "    </tr>\n",
       "    <tr>\n",
       "      <th>2</th>\n",
       "      <td>1/1/2012 2:00</td>\n",
       "      <td>-1.8</td>\n",
       "      <td>-3.4</td>\n",
       "      <td>89</td>\n",
       "      <td>7</td>\n",
       "      <td>4.0</td>\n",
       "      <td>101.26</td>\n",
       "      <td>Freezing Drizzle,Fog</td>\n",
       "      <td>FOG</td>\n",
       "    </tr>\n",
       "    <tr>\n",
       "      <th>3</th>\n",
       "      <td>1/1/2012 3:00</td>\n",
       "      <td>-1.5</td>\n",
       "      <td>-3.2</td>\n",
       "      <td>88</td>\n",
       "      <td>6</td>\n",
       "      <td>4.0</td>\n",
       "      <td>101.27</td>\n",
       "      <td>Freezing Drizzle,Fog</td>\n",
       "      <td>FOG</td>\n",
       "    </tr>\n",
       "    <tr>\n",
       "      <th>4</th>\n",
       "      <td>1/1/2012 4:00</td>\n",
       "      <td>-1.5</td>\n",
       "      <td>-3.3</td>\n",
       "      <td>88</td>\n",
       "      <td>7</td>\n",
       "      <td>4.8</td>\n",
       "      <td>101.23</td>\n",
       "      <td>Fog</td>\n",
       "      <td>FOG</td>\n",
       "    </tr>\n",
       "  </tbody>\n",
       "</table>\n",
       "</div>"
      ],
      "text/plain": [
       "       Date/Time  Temp_C  Dew Point Temp_C  Rel Hum_%  Wind Speed_km/h  \\\n",
       "0  1/1/2012 0:00    -1.8              -3.9         86                4   \n",
       "1  1/1/2012 1:00    -1.8              -3.7         87                4   \n",
       "2  1/1/2012 2:00    -1.8              -3.4         89                7   \n",
       "3  1/1/2012 3:00    -1.5              -3.2         88                6   \n",
       "4  1/1/2012 4:00    -1.5              -3.3         88                7   \n",
       "\n",
       "   Visibility_km  Press_kPa               Weather Std_Weather  \n",
       "0            8.0     101.24                   Fog         FOG  \n",
       "1            8.0     101.24                   Fog         FOG  \n",
       "2            4.0     101.26  Freezing Drizzle,Fog         FOG  \n",
       "3            4.0     101.27  Freezing Drizzle,Fog         FOG  \n",
       "4            4.8     101.23                   Fog         FOG  "
      ]
     },
     "execution_count": 62,
     "metadata": {},
     "output_type": "execute_result"
    }
   ],
   "source": [
    "df.head()"
   ]
  },
  {
   "cell_type": "code",
   "execution_count": 63,
   "id": "633442c7-a520-490d-8b14-2489cca57419",
   "metadata": {},
   "outputs": [
    {
     "data": {
      "text/plain": [
       "Std_Weather\n",
       "Cloudy       3797\n",
       "CLEAR        3432\n",
       "RAIN          603\n",
       "SNOW          556\n",
       "FOG           241\n",
       "RAIN+FOG      129\n",
       "SNOW+Rain      26\n",
       "Name: count, dtype: int64"
      ]
     },
     "execution_count": 63,
     "metadata": {},
     "output_type": "execute_result"
    }
   ],
   "source": [
    "df.Std_Weather.value_counts()"
   ]
  },
  {
   "cell_type": "markdown",
   "id": "1cd603e4-dff6-41a9-a73f-890f0aa48b62",
   "metadata": {},
   "source": [
    "##### Sample Selection and data balancing"
   ]
  },
  {
   "cell_type": "code",
   "execution_count": 64,
   "id": "0ddc7e7a-6efb-4006-92cd-5c516f8cd4c6",
   "metadata": {},
   "outputs": [],
   "source": [
    "cloudy_df = df[df['Std_Weather'] == 'Cloudy'].sample(600)\n"
   ]
  },
  {
   "cell_type": "code",
   "execution_count": 65,
   "id": "2bf76401-d36a-474b-b6af-c0985b462f03",
   "metadata": {},
   "outputs": [
    {
     "data": {
      "text/plain": [
       "(600, 9)"
      ]
     },
     "execution_count": 65,
     "metadata": {},
     "output_type": "execute_result"
    }
   ],
   "source": [
    "clear_df = df[df['Std_Weather'] == 'CLEAR'].sample(600)\n",
    "clear_df.shape\n"
   ]
  },
  {
   "cell_type": "markdown",
   "id": "bf66c19a-8050-4bf0-a284-94b529289fc6",
   "metadata": {},
   "source": [
    "##### Dataset balancing"
   ]
  },
  {
   "cell_type": "code",
   "execution_count": 66,
   "id": "57cfa6cd-263b-4050-9de3-e780e97656cf",
   "metadata": {},
   "outputs": [],
   "source": [
    "rain_df = df[df['Std_Weather'] == 'RAIN']\n",
    "snow_df = df[df['Std_Weather'] == 'SNOW']"
   ]
  },
  {
   "cell_type": "code",
   "execution_count": 67,
   "id": "7b18ed32-2fb3-4fd2-9dcb-56ca76395967",
   "metadata": {},
   "outputs": [
    {
     "data": {
      "text/plain": [
       "(603, 9)"
      ]
     },
     "execution_count": 67,
     "metadata": {},
     "output_type": "execute_result"
    }
   ],
   "source": [
    "rain_df.shape"
   ]
  },
  {
   "cell_type": "code",
   "execution_count": 68,
   "id": "42c6b94b-21d9-4ae2-a466-aadde3b16976",
   "metadata": {},
   "outputs": [
    {
     "data": {
      "text/plain": [
       "(556, 9)"
      ]
     },
     "execution_count": 68,
     "metadata": {},
     "output_type": "execute_result"
    }
   ],
   "source": [
    "snow_df.shape"
   ]
  },
  {
   "cell_type": "markdown",
   "id": "b6d937aa-906a-47a6-9513-ac13785fe004",
   "metadata": {},
   "source": [
    "##### Create New Weather Dataset:"
   ]
  },
  {
   "cell_type": "code",
   "execution_count": 69,
   "id": "7dc964a3-d57a-478e-a0a9-dc0108e10122",
   "metadata": {},
   "outputs": [
    {
     "data": {
      "text/plain": [
       "(2359, 9)"
      ]
     },
     "execution_count": 69,
     "metadata": {},
     "output_type": "execute_result"
    }
   ],
   "source": [
    "weather_df = pd.concat([cloudy_df,clear_df,rain_df,snow_df],axis=0)\n",
    "weather_df.shape"
   ]
  },
  {
   "cell_type": "code",
   "execution_count": 70,
   "id": "0f30da7f-c6aa-4abe-9481-c440459190ca",
   "metadata": {},
   "outputs": [
    {
     "data": {
      "text/plain": [
       "Std_Weather\n",
       "RAIN      603\n",
       "Cloudy    600\n",
       "CLEAR     600\n",
       "SNOW      556\n",
       "Name: count, dtype: int64"
      ]
     },
     "execution_count": 70,
     "metadata": {},
     "output_type": "execute_result"
    }
   ],
   "source": [
    "weather_df.Std_Weather.value_counts()"
   ]
  },
  {
   "cell_type": "code",
   "execution_count": 71,
   "id": "eeacd688-bb5c-4aae-a40e-9ccef9950230",
   "metadata": {},
   "outputs": [
    {
     "data": {
      "text/html": [
       "<div>\n",
       "<style scoped>\n",
       "    .dataframe tbody tr th:only-of-type {\n",
       "        vertical-align: middle;\n",
       "    }\n",
       "\n",
       "    .dataframe tbody tr th {\n",
       "        vertical-align: top;\n",
       "    }\n",
       "\n",
       "    .dataframe thead th {\n",
       "        text-align: right;\n",
       "    }\n",
       "</style>\n",
       "<table border=\"1\" class=\"dataframe\">\n",
       "  <thead>\n",
       "    <tr style=\"text-align: right;\">\n",
       "      <th></th>\n",
       "      <th>Date/Time</th>\n",
       "      <th>Temp_C</th>\n",
       "      <th>Dew Point Temp_C</th>\n",
       "      <th>Rel Hum_%</th>\n",
       "      <th>Wind Speed_km/h</th>\n",
       "      <th>Visibility_km</th>\n",
       "      <th>Press_kPa</th>\n",
       "      <th>Weather</th>\n",
       "      <th>Std_Weather</th>\n",
       "    </tr>\n",
       "  </thead>\n",
       "  <tbody>\n",
       "    <tr>\n",
       "      <th>292</th>\n",
       "      <td>1/13/2012 4:00</td>\n",
       "      <td>-5.0</td>\n",
       "      <td>-7.4</td>\n",
       "      <td>83</td>\n",
       "      <td>24</td>\n",
       "      <td>11.3</td>\n",
       "      <td>99.13</td>\n",
       "      <td>Cloudy</td>\n",
       "      <td>Cloudy</td>\n",
       "    </tr>\n",
       "    <tr>\n",
       "      <th>8100</th>\n",
       "      <td>12/3/2012 12:00</td>\n",
       "      <td>3.9</td>\n",
       "      <td>1.3</td>\n",
       "      <td>83</td>\n",
       "      <td>9</td>\n",
       "      <td>24.1</td>\n",
       "      <td>101.96</td>\n",
       "      <td>Cloudy</td>\n",
       "      <td>Cloudy</td>\n",
       "    </tr>\n",
       "    <tr>\n",
       "      <th>7164</th>\n",
       "      <td>10/25/2012 12:00</td>\n",
       "      <td>11.3</td>\n",
       "      <td>1.4</td>\n",
       "      <td>50</td>\n",
       "      <td>13</td>\n",
       "      <td>24.1</td>\n",
       "      <td>101.77</td>\n",
       "      <td>Cloudy</td>\n",
       "      <td>Cloudy</td>\n",
       "    </tr>\n",
       "    <tr>\n",
       "      <th>2336</th>\n",
       "      <td>4/7/2012 8:00</td>\n",
       "      <td>4.5</td>\n",
       "      <td>-9.3</td>\n",
       "      <td>36</td>\n",
       "      <td>11</td>\n",
       "      <td>48.3</td>\n",
       "      <td>101.51</td>\n",
       "      <td>Mostly Cloudy</td>\n",
       "      <td>Cloudy</td>\n",
       "    </tr>\n",
       "    <tr>\n",
       "      <th>4872</th>\n",
       "      <td>7/22/2012 0:00</td>\n",
       "      <td>22.7</td>\n",
       "      <td>14.9</td>\n",
       "      <td>61</td>\n",
       "      <td>11</td>\n",
       "      <td>25.0</td>\n",
       "      <td>101.19</td>\n",
       "      <td>Cloudy</td>\n",
       "      <td>Cloudy</td>\n",
       "    </tr>\n",
       "  </tbody>\n",
       "</table>\n",
       "</div>"
      ],
      "text/plain": [
       "             Date/Time  Temp_C  Dew Point Temp_C  Rel Hum_%  Wind Speed_km/h  \\\n",
       "292     1/13/2012 4:00    -5.0              -7.4         83               24   \n",
       "8100   12/3/2012 12:00     3.9               1.3         83                9   \n",
       "7164  10/25/2012 12:00    11.3               1.4         50               13   \n",
       "2336     4/7/2012 8:00     4.5              -9.3         36               11   \n",
       "4872    7/22/2012 0:00    22.7              14.9         61               11   \n",
       "\n",
       "      Visibility_km  Press_kPa        Weather Std_Weather  \n",
       "292            11.3      99.13         Cloudy      Cloudy  \n",
       "8100           24.1     101.96         Cloudy      Cloudy  \n",
       "7164           24.1     101.77         Cloudy      Cloudy  \n",
       "2336           48.3     101.51  Mostly Cloudy      Cloudy  \n",
       "4872           25.0     101.19         Cloudy      Cloudy  "
      ]
     },
     "execution_count": 71,
     "metadata": {},
     "output_type": "execute_result"
    }
   ],
   "source": [
    "weather_df.head()"
   ]
  },
  {
   "cell_type": "markdown",
   "id": "69660a30-a94d-4e3e-b1a6-01a10de3e4e1",
   "metadata": {},
   "source": [
    "#####  Drop Columns Date/Time and Weather:"
   ]
  },
  {
   "cell_type": "code",
   "execution_count": 72,
   "id": "d6d3de64-9cbd-4a7c-82ae-66580120e433",
   "metadata": {},
   "outputs": [],
   "source": [
    "weather_df.drop(columns = ['Date/Time','Weather'],axis=1,inplace = True)"
   ]
  },
  {
   "cell_type": "code",
   "execution_count": 73,
   "id": "e34ce725-455e-4c94-a175-fe4b5b27e5d9",
   "metadata": {},
   "outputs": [
    {
     "data": {
      "text/html": [
       "<div>\n",
       "<style scoped>\n",
       "    .dataframe tbody tr th:only-of-type {\n",
       "        vertical-align: middle;\n",
       "    }\n",
       "\n",
       "    .dataframe tbody tr th {\n",
       "        vertical-align: top;\n",
       "    }\n",
       "\n",
       "    .dataframe thead th {\n",
       "        text-align: right;\n",
       "    }\n",
       "</style>\n",
       "<table border=\"1\" class=\"dataframe\">\n",
       "  <thead>\n",
       "    <tr style=\"text-align: right;\">\n",
       "      <th></th>\n",
       "      <th>Temp_C</th>\n",
       "      <th>Dew Point Temp_C</th>\n",
       "      <th>Rel Hum_%</th>\n",
       "      <th>Wind Speed_km/h</th>\n",
       "      <th>Visibility_km</th>\n",
       "      <th>Press_kPa</th>\n",
       "      <th>Std_Weather</th>\n",
       "    </tr>\n",
       "  </thead>\n",
       "  <tbody>\n",
       "    <tr>\n",
       "      <th>292</th>\n",
       "      <td>-5.0</td>\n",
       "      <td>-7.4</td>\n",
       "      <td>83</td>\n",
       "      <td>24</td>\n",
       "      <td>11.3</td>\n",
       "      <td>99.13</td>\n",
       "      <td>Cloudy</td>\n",
       "    </tr>\n",
       "    <tr>\n",
       "      <th>8100</th>\n",
       "      <td>3.9</td>\n",
       "      <td>1.3</td>\n",
       "      <td>83</td>\n",
       "      <td>9</td>\n",
       "      <td>24.1</td>\n",
       "      <td>101.96</td>\n",
       "      <td>Cloudy</td>\n",
       "    </tr>\n",
       "    <tr>\n",
       "      <th>7164</th>\n",
       "      <td>11.3</td>\n",
       "      <td>1.4</td>\n",
       "      <td>50</td>\n",
       "      <td>13</td>\n",
       "      <td>24.1</td>\n",
       "      <td>101.77</td>\n",
       "      <td>Cloudy</td>\n",
       "    </tr>\n",
       "    <tr>\n",
       "      <th>2336</th>\n",
       "      <td>4.5</td>\n",
       "      <td>-9.3</td>\n",
       "      <td>36</td>\n",
       "      <td>11</td>\n",
       "      <td>48.3</td>\n",
       "      <td>101.51</td>\n",
       "      <td>Cloudy</td>\n",
       "    </tr>\n",
       "    <tr>\n",
       "      <th>4872</th>\n",
       "      <td>22.7</td>\n",
       "      <td>14.9</td>\n",
       "      <td>61</td>\n",
       "      <td>11</td>\n",
       "      <td>25.0</td>\n",
       "      <td>101.19</td>\n",
       "      <td>Cloudy</td>\n",
       "    </tr>\n",
       "    <tr>\n",
       "      <th>...</th>\n",
       "      <td>...</td>\n",
       "      <td>...</td>\n",
       "      <td>...</td>\n",
       "      <td>...</td>\n",
       "      <td>...</td>\n",
       "      <td>...</td>\n",
       "      <td>...</td>\n",
       "    </tr>\n",
       "    <tr>\n",
       "      <th>7503</th>\n",
       "      <td>5.2</td>\n",
       "      <td>-3.3</td>\n",
       "      <td>54</td>\n",
       "      <td>20</td>\n",
       "      <td>24.1</td>\n",
       "      <td>101.18</td>\n",
       "      <td>Cloudy</td>\n",
       "    </tr>\n",
       "    <tr>\n",
       "      <th>8517</th>\n",
       "      <td>0.7</td>\n",
       "      <td>-2.3</td>\n",
       "      <td>80</td>\n",
       "      <td>22</td>\n",
       "      <td>25.0</td>\n",
       "      <td>101.00</td>\n",
       "      <td>Cloudy</td>\n",
       "    </tr>\n",
       "    <tr>\n",
       "      <th>2514</th>\n",
       "      <td>14.5</td>\n",
       "      <td>-2.7</td>\n",
       "      <td>30</td>\n",
       "      <td>13</td>\n",
       "      <td>48.3</td>\n",
       "      <td>100.95</td>\n",
       "      <td>Cloudy</td>\n",
       "    </tr>\n",
       "    <tr>\n",
       "      <th>4257</th>\n",
       "      <td>16.9</td>\n",
       "      <td>10.5</td>\n",
       "      <td>66</td>\n",
       "      <td>9</td>\n",
       "      <td>24.1</td>\n",
       "      <td>100.16</td>\n",
       "      <td>Cloudy</td>\n",
       "    </tr>\n",
       "    <tr>\n",
       "      <th>39</th>\n",
       "      <td>0.0</td>\n",
       "      <td>-7.0</td>\n",
       "      <td>59</td>\n",
       "      <td>33</td>\n",
       "      <td>24.1</td>\n",
       "      <td>99.41</td>\n",
       "      <td>Cloudy</td>\n",
       "    </tr>\n",
       "  </tbody>\n",
       "</table>\n",
       "<p>100 rows × 7 columns</p>\n",
       "</div>"
      ],
      "text/plain": [
       "      Temp_C  Dew Point Temp_C  Rel Hum_%  Wind Speed_km/h  Visibility_km  \\\n",
       "292     -5.0              -7.4         83               24           11.3   \n",
       "8100     3.9               1.3         83                9           24.1   \n",
       "7164    11.3               1.4         50               13           24.1   \n",
       "2336     4.5              -9.3         36               11           48.3   \n",
       "4872    22.7              14.9         61               11           25.0   \n",
       "...      ...               ...        ...              ...            ...   \n",
       "7503     5.2              -3.3         54               20           24.1   \n",
       "8517     0.7              -2.3         80               22           25.0   \n",
       "2514    14.5              -2.7         30               13           48.3   \n",
       "4257    16.9              10.5         66                9           24.1   \n",
       "39       0.0              -7.0         59               33           24.1   \n",
       "\n",
       "      Press_kPa Std_Weather  \n",
       "292       99.13      Cloudy  \n",
       "8100     101.96      Cloudy  \n",
       "7164     101.77      Cloudy  \n",
       "2336     101.51      Cloudy  \n",
       "4872     101.19      Cloudy  \n",
       "...         ...         ...  \n",
       "7503     101.18      Cloudy  \n",
       "8517     101.00      Cloudy  \n",
       "2514     100.95      Cloudy  \n",
       "4257     100.16      Cloudy  \n",
       "39        99.41      Cloudy  \n",
       "\n",
       "[100 rows x 7 columns]"
      ]
     },
     "execution_count": 73,
     "metadata": {},
     "output_type": "execute_result"
    }
   ],
   "source": [
    "weather_df.head(100)"
   ]
  },
  {
   "cell_type": "markdown",
   "id": "dbd12998-c3b7-4ab2-89a1-0816eefc4871",
   "metadata": {},
   "source": [
    "##### Duplicate Records:"
   ]
  },
  {
   "cell_type": "code",
   "execution_count": 74,
   "id": "f93e5801-a8d4-4a31-8e4e-a54a4da33ec3",
   "metadata": {},
   "outputs": [
    {
     "data": {
      "text/plain": [
       "0"
      ]
     },
     "execution_count": 74,
     "metadata": {},
     "output_type": "execute_result"
    }
   ],
   "source": [
    "weather_df.duplicated().sum()"
   ]
  },
  {
   "cell_type": "code",
   "execution_count": 75,
   "id": "bcad855c-0b48-423f-8905-a5b5ad3416f6",
   "metadata": {},
   "outputs": [
    {
     "data": {
      "text/plain": [
       "Temp_C              float64\n",
       "Dew Point Temp_C    float64\n",
       "Rel Hum_%             int64\n",
       "Wind Speed_km/h       int64\n",
       "Visibility_km       float64\n",
       "Press_kPa           float64\n",
       "Std_Weather          object\n",
       "dtype: object"
      ]
     },
     "execution_count": 75,
     "metadata": {},
     "output_type": "execute_result"
    }
   ],
   "source": [
    "weather_df.dtypes"
   ]
  },
  {
   "cell_type": "markdown",
   "id": "a795bdf3-9137-44c2-932b-b64f07d16381",
   "metadata": {},
   "source": [
    "##### Data Visualizations:"
   ]
  },
  {
   "cell_type": "code",
   "execution_count": 76,
   "id": "bd21d5d9-971c-41f2-a03e-6515274cd8b5",
   "metadata": {},
   "outputs": [
    {
     "data": {
      "text/html": [
       "<div>\n",
       "<style scoped>\n",
       "    .dataframe tbody tr th:only-of-type {\n",
       "        vertical-align: middle;\n",
       "    }\n",
       "\n",
       "    .dataframe tbody tr th {\n",
       "        vertical-align: top;\n",
       "    }\n",
       "\n",
       "    .dataframe thead th {\n",
       "        text-align: right;\n",
       "    }\n",
       "</style>\n",
       "<table border=\"1\" class=\"dataframe\">\n",
       "  <thead>\n",
       "    <tr style=\"text-align: right;\">\n",
       "      <th></th>\n",
       "      <th>Temp_C</th>\n",
       "      <th>Dew Point Temp_C</th>\n",
       "      <th>Rel Hum_%</th>\n",
       "      <th>Wind Speed_km/h</th>\n",
       "      <th>Visibility_km</th>\n",
       "      <th>Press_kPa</th>\n",
       "    </tr>\n",
       "  </thead>\n",
       "  <tbody>\n",
       "    <tr>\n",
       "      <th>count</th>\n",
       "      <td>2359.000000</td>\n",
       "      <td>2359.000000</td>\n",
       "      <td>2359.000000</td>\n",
       "      <td>2359.000000</td>\n",
       "      <td>2359.000000</td>\n",
       "      <td>2359.000000</td>\n",
       "    </tr>\n",
       "    <tr>\n",
       "      <th>mean</th>\n",
       "      <td>6.708266</td>\n",
       "      <td>1.619161</td>\n",
       "      <td>72.252226</td>\n",
       "      <td>16.683764</td>\n",
       "      <td>23.124883</td>\n",
       "      <td>100.801229</td>\n",
       "    </tr>\n",
       "    <tr>\n",
       "      <th>std</th>\n",
       "      <td>11.439287</td>\n",
       "      <td>10.620151</td>\n",
       "      <td>15.923946</td>\n",
       "      <td>9.334289</td>\n",
       "      <td>12.640761</td>\n",
       "      <td>0.909409</td>\n",
       "    </tr>\n",
       "    <tr>\n",
       "      <th>min</th>\n",
       "      <td>-21.000000</td>\n",
       "      <td>-26.800000</td>\n",
       "      <td>20.000000</td>\n",
       "      <td>0.000000</td>\n",
       "      <td>0.600000</td>\n",
       "      <td>97.520000</td>\n",
       "    </tr>\n",
       "    <tr>\n",
       "      <th>25%</th>\n",
       "      <td>-3.000000</td>\n",
       "      <td>-7.000000</td>\n",
       "      <td>62.000000</td>\n",
       "      <td>9.000000</td>\n",
       "      <td>16.100000</td>\n",
       "      <td>100.305000</td>\n",
       "    </tr>\n",
       "    <tr>\n",
       "      <th>50%</th>\n",
       "      <td>5.500000</td>\n",
       "      <td>0.500000</td>\n",
       "      <td>76.000000</td>\n",
       "      <td>15.000000</td>\n",
       "      <td>24.100000</td>\n",
       "      <td>100.820000</td>\n",
       "    </tr>\n",
       "    <tr>\n",
       "      <th>75%</th>\n",
       "      <td>16.600000</td>\n",
       "      <td>10.700000</td>\n",
       "      <td>85.000000</td>\n",
       "      <td>22.000000</td>\n",
       "      <td>25.000000</td>\n",
       "      <td>101.410000</td>\n",
       "    </tr>\n",
       "    <tr>\n",
       "      <th>max</th>\n",
       "      <td>32.500000</td>\n",
       "      <td>23.100000</td>\n",
       "      <td>99.000000</td>\n",
       "      <td>63.000000</td>\n",
       "      <td>48.300000</td>\n",
       "      <td>103.610000</td>\n",
       "    </tr>\n",
       "  </tbody>\n",
       "</table>\n",
       "</div>"
      ],
      "text/plain": [
       "            Temp_C  Dew Point Temp_C    Rel Hum_%  Wind Speed_km/h  \\\n",
       "count  2359.000000       2359.000000  2359.000000      2359.000000   \n",
       "mean      6.708266          1.619161    72.252226        16.683764   \n",
       "std      11.439287         10.620151    15.923946         9.334289   \n",
       "min     -21.000000        -26.800000    20.000000         0.000000   \n",
       "25%      -3.000000         -7.000000    62.000000         9.000000   \n",
       "50%       5.500000          0.500000    76.000000        15.000000   \n",
       "75%      16.600000         10.700000    85.000000        22.000000   \n",
       "max      32.500000         23.100000    99.000000        63.000000   \n",
       "\n",
       "       Visibility_km    Press_kPa  \n",
       "count    2359.000000  2359.000000  \n",
       "mean       23.124883   100.801229  \n",
       "std        12.640761     0.909409  \n",
       "min         0.600000    97.520000  \n",
       "25%        16.100000   100.305000  \n",
       "50%        24.100000   100.820000  \n",
       "75%        25.000000   101.410000  \n",
       "max        48.300000   103.610000  "
      ]
     },
     "execution_count": 76,
     "metadata": {},
     "output_type": "execute_result"
    }
   ],
   "source": [
    "weather_df.describe()"
   ]
  },
  {
   "cell_type": "markdown",
   "id": "8c0f4400-8d4e-4401-a45a-6cde83f3f7a7",
   "metadata": {},
   "source": [
    "##### Correlation among the features:"
   ]
  },
  {
   "cell_type": "code",
   "execution_count": 77,
   "id": "d19d02a1-2fec-41a8-9a1c-ff582fdcf48b",
   "metadata": {},
   "outputs": [],
   "source": [
    "cols = ['Temp_C','Dew Point Temp_C','Rel Hum_%','Wind Speed_km/h','Visibility_km','Press_kPa']"
   ]
  },
  {
   "cell_type": "code",
   "execution_count": 78,
   "id": "72297aa6-0d2d-41fa-ac1c-f52e81b62bce",
   "metadata": {},
   "outputs": [
    {
     "data": {
      "text/html": [
       "<div>\n",
       "<style scoped>\n",
       "    .dataframe tbody tr th:only-of-type {\n",
       "        vertical-align: middle;\n",
       "    }\n",
       "\n",
       "    .dataframe tbody tr th {\n",
       "        vertical-align: top;\n",
       "    }\n",
       "\n",
       "    .dataframe thead th {\n",
       "        text-align: right;\n",
       "    }\n",
       "</style>\n",
       "<table border=\"1\" class=\"dataframe\">\n",
       "  <thead>\n",
       "    <tr style=\"text-align: right;\">\n",
       "      <th></th>\n",
       "      <th>Temp_C</th>\n",
       "      <th>Dew Point Temp_C</th>\n",
       "      <th>Rel Hum_%</th>\n",
       "      <th>Wind Speed_km/h</th>\n",
       "      <th>Visibility_km</th>\n",
       "      <th>Press_kPa</th>\n",
       "    </tr>\n",
       "  </thead>\n",
       "  <tbody>\n",
       "    <tr>\n",
       "      <th>Temp_C</th>\n",
       "      <td>1.000000</td>\n",
       "      <td>0.942708</td>\n",
       "      <td>-0.242808</td>\n",
       "      <td>-0.116156</td>\n",
       "      <td>0.384684</td>\n",
       "      <td>-0.089727</td>\n",
       "    </tr>\n",
       "    <tr>\n",
       "      <th>Dew Point Temp_C</th>\n",
       "      <td>0.942708</td>\n",
       "      <td>1.000000</td>\n",
       "      <td>0.088213</td>\n",
       "      <td>-0.111645</td>\n",
       "      <td>0.177514</td>\n",
       "      <td>-0.199158</td>\n",
       "    </tr>\n",
       "    <tr>\n",
       "      <th>Rel Hum_%</th>\n",
       "      <td>-0.242808</td>\n",
       "      <td>0.088213</td>\n",
       "      <td>1.000000</td>\n",
       "      <td>0.025642</td>\n",
       "      <td>-0.655984</td>\n",
       "      <td>-0.332303</td>\n",
       "    </tr>\n",
       "    <tr>\n",
       "      <th>Wind Speed_km/h</th>\n",
       "      <td>-0.116156</td>\n",
       "      <td>-0.111645</td>\n",
       "      <td>0.025642</td>\n",
       "      <td>1.000000</td>\n",
       "      <td>-0.146470</td>\n",
       "      <td>-0.396638</td>\n",
       "    </tr>\n",
       "    <tr>\n",
       "      <th>Visibility_km</th>\n",
       "      <td>0.384684</td>\n",
       "      <td>0.177514</td>\n",
       "      <td>-0.655984</td>\n",
       "      <td>-0.146470</td>\n",
       "      <td>1.000000</td>\n",
       "      <td>0.339245</td>\n",
       "    </tr>\n",
       "    <tr>\n",
       "      <th>Press_kPa</th>\n",
       "      <td>-0.089727</td>\n",
       "      <td>-0.199158</td>\n",
       "      <td>-0.332303</td>\n",
       "      <td>-0.396638</td>\n",
       "      <td>0.339245</td>\n",
       "      <td>1.000000</td>\n",
       "    </tr>\n",
       "  </tbody>\n",
       "</table>\n",
       "</div>"
      ],
      "text/plain": [
       "                    Temp_C  Dew Point Temp_C  Rel Hum_%  Wind Speed_km/h  \\\n",
       "Temp_C            1.000000          0.942708  -0.242808        -0.116156   \n",
       "Dew Point Temp_C  0.942708          1.000000   0.088213        -0.111645   \n",
       "Rel Hum_%        -0.242808          0.088213   1.000000         0.025642   \n",
       "Wind Speed_km/h  -0.116156         -0.111645   0.025642         1.000000   \n",
       "Visibility_km     0.384684          0.177514  -0.655984        -0.146470   \n",
       "Press_kPa        -0.089727         -0.199158  -0.332303        -0.396638   \n",
       "\n",
       "                  Visibility_km  Press_kPa  \n",
       "Temp_C                 0.384684  -0.089727  \n",
       "Dew Point Temp_C       0.177514  -0.199158  \n",
       "Rel Hum_%             -0.655984  -0.332303  \n",
       "Wind Speed_km/h       -0.146470  -0.396638  \n",
       "Visibility_km          1.000000   0.339245  \n",
       "Press_kPa              0.339245   1.000000  "
      ]
     },
     "execution_count": 78,
     "metadata": {},
     "output_type": "execute_result"
    }
   ],
   "source": [
    "cor_matrix = weather_df[cols].corr()\n",
    "cor_matrix"
   ]
  },
  {
   "cell_type": "markdown",
   "id": "63b54f54-ff65-4f7b-bba0-ab2c2546ec97",
   "metadata": {},
   "source": [
    "##### Heat map"
   ]
  },
  {
   "cell_type": "code",
   "execution_count": 79,
   "id": "5df2f5f0-8bf3-4c49-8a2f-b0d23682ed27",
   "metadata": {},
   "outputs": [
    {
     "data": {
      "text/plain": [
       "<Axes: >"
      ]
     },
     "execution_count": 79,
     "metadata": {},
     "output_type": "execute_result"
    },
    {
     "data": {
      "image/png": "[encoded data removed]",
      "text/plain": [
       "<Figure size 640x480 with 2 Axes>"
      ]
     },
     "metadata": {},
     "output_type": "display_data"
    }
   ],
   "source": [
    "sns.heatmap(cor_matrix,annot = True)"
   ]
  },
  {
   "cell_type": "code",
   "execution_count": 80,
   "id": "5798d9b0-5d65-4e1f-bbb6-1990ae56fa96",
   "metadata": {},
   "outputs": [
    {
     "data": {
      "text/plain": [
       "Index(['Temp_C', 'Dew Point Temp_C', 'Rel Hum_%', 'Wind Speed_km/h',\n",
       "       'Visibility_km', 'Press_kPa', 'Std_Weather'],\n",
       "      dtype='object')"
      ]
     },
     "execution_count": 80,
     "metadata": {},
     "output_type": "execute_result"
    }
   ],
   "source": [
    "weather_df.columns"
   ]
  },
  {
   "cell_type": "code",
   "execution_count": 81,
   "id": "9436a4fe-d896-4201-b685-84ef64289046",
   "metadata": {},
   "outputs": [
    {
     "data": {
      "image/png": "[encoded data removed]",
      "text/plain": [
       "<Figure size 1500x1500 with 7 Axes>"
      ]
     },
     "metadata": {},
     "output_type": "display_data"
    }
   ],
   "source": [
    "plt.figure(figsize=(15,15),facecolor='white')\n",
    "plotnumber = 1\n",
    "for i in weather_df.columns:\n",
    " ax = plt.subplot(4,3,plotnumber)\n",
    " sns.histplot(weather_df[i])\n",
    " plt.xlabel(i,fontsize=10)\n",
    " plotnumber +=1\n",
    "plt.tight_layout()\n",
    "plt.show()\n"
   ]
  },
  {
   "cell_type": "code",
   "execution_count": 82,
   "id": "a41127a8-422b-44ea-bd3c-3ddbaad871a3",
   "metadata": {},
   "outputs": [
    {
     "data": {
      "image/png": "[encoded data removed]",
      "text/plain": [
       "<Figure size 1500x1500 with 7 Axes>"
      ]
     },
     "metadata": {},
     "output_type": "display_data"
    }
   ],
   "source": [
    "plt.figure(figsize = (15,15), facecolor = 'white')\n",
    "plotnumber = 1\n",
    "for i in weather_df.columns:\n",
    " ax = plt.subplot(4,3, plotnumber)\n",
    " sns.boxplot(weather_df[i])\n",
    " plt.xlabel(i, fontsize = 10)\n",
    " plotnumber +=1\n",
    "plt.tight_layout()\n",
    "plt.show()"
   ]
  },
  {
   "cell_type": "markdown",
   "id": "a9f67bf1-4590-4493-a876-210545e70281",
   "metadata": {},
   "source": [
    "##### Label Encoding"
   ]
  },
  {
   "cell_type": "code",
   "execution_count": 83,
   "id": "dc166b5b-eed1-40d1-856c-52829ded5c01",
   "metadata": {},
   "outputs": [],
   "source": [
    "from sklearn.preprocessing import LabelEncoder"
   ]
  },
  {
   "cell_type": "code",
   "execution_count": 84,
   "id": "c7e0f4cc-c567-4f3c-af09-5d80f1375dca",
   "metadata": {},
   "outputs": [],
   "source": [
    "label_Encoder = LabelEncoder()"
   ]
  },
  {
   "cell_type": "code",
   "execution_count": 85,
   "id": "5dfe1e88-c9fd-4196-9256-82e1d681458c",
   "metadata": {},
   "outputs": [],
   "source": [
    "weather_df['Std_Weather'] = label_Encoder.fit_transform(weather_df['Std_Weather'])"
   ]
  },
  {
   "cell_type": "code",
   "execution_count": 86,
   "id": "2e2ff411-ede9-498a-a5ca-3bb6592f5fa7",
   "metadata": {},
   "outputs": [
    {
     "data": {
      "text/plain": [
       "array(['CLEAR', 'Cloudy', 'RAIN', 'SNOW'], dtype=object)"
      ]
     },
     "execution_count": 86,
     "metadata": {},
     "output_type": "execute_result"
    }
   ],
   "source": [
    "label_Encoder.classes_"
   ]
  },
  {
   "cell_type": "code",
   "execution_count": 87,
   "id": "4f0a642c-5734-4427-be54-d3131c4fa5d8",
   "metadata": {},
   "outputs": [
    {
     "data": {
      "text/html": [
       "<div>\n",
       "<style scoped>\n",
       "    .dataframe tbody tr th:only-of-type {\n",
       "        vertical-align: middle;\n",
       "    }\n",
       "\n",
       "    .dataframe tbody tr th {\n",
       "        vertical-align: top;\n",
       "    }\n",
       "\n",
       "    .dataframe thead th {\n",
       "        text-align: right;\n",
       "    }\n",
       "</style>\n",
       "<table border=\"1\" class=\"dataframe\">\n",
       "  <thead>\n",
       "    <tr style=\"text-align: right;\">\n",
       "      <th></th>\n",
       "      <th>Temp_C</th>\n",
       "      <th>Dew Point Temp_C</th>\n",
       "      <th>Rel Hum_%</th>\n",
       "      <th>Wind Speed_km/h</th>\n",
       "      <th>Visibility_km</th>\n",
       "      <th>Press_kPa</th>\n",
       "      <th>Std_Weather</th>\n",
       "    </tr>\n",
       "  </thead>\n",
       "  <tbody>\n",
       "    <tr>\n",
       "      <th>292</th>\n",
       "      <td>-5.0</td>\n",
       "      <td>-7.4</td>\n",
       "      <td>83</td>\n",
       "      <td>24</td>\n",
       "      <td>11.3</td>\n",
       "      <td>99.13</td>\n",
       "      <td>1</td>\n",
       "    </tr>\n",
       "    <tr>\n",
       "      <th>8100</th>\n",
       "      <td>3.9</td>\n",
       "      <td>1.3</td>\n",
       "      <td>83</td>\n",
       "      <td>9</td>\n",
       "      <td>24.1</td>\n",
       "      <td>101.96</td>\n",
       "      <td>1</td>\n",
       "    </tr>\n",
       "    <tr>\n",
       "      <th>7164</th>\n",
       "      <td>11.3</td>\n",
       "      <td>1.4</td>\n",
       "      <td>50</td>\n",
       "      <td>13</td>\n",
       "      <td>24.1</td>\n",
       "      <td>101.77</td>\n",
       "      <td>1</td>\n",
       "    </tr>\n",
       "    <tr>\n",
       "      <th>2336</th>\n",
       "      <td>4.5</td>\n",
       "      <td>-9.3</td>\n",
       "      <td>36</td>\n",
       "      <td>11</td>\n",
       "      <td>48.3</td>\n",
       "      <td>101.51</td>\n",
       "      <td>1</td>\n",
       "    </tr>\n",
       "    <tr>\n",
       "      <th>4872</th>\n",
       "      <td>22.7</td>\n",
       "      <td>14.9</td>\n",
       "      <td>61</td>\n",
       "      <td>11</td>\n",
       "      <td>25.0</td>\n",
       "      <td>101.19</td>\n",
       "      <td>1</td>\n",
       "    </tr>\n",
       "  </tbody>\n",
       "</table>\n",
       "</div>"
      ],
      "text/plain": [
       "      Temp_C  Dew Point Temp_C  Rel Hum_%  Wind Speed_km/h  Visibility_km  \\\n",
       "292     -5.0              -7.4         83               24           11.3   \n",
       "8100     3.9               1.3         83                9           24.1   \n",
       "7164    11.3               1.4         50               13           24.1   \n",
       "2336     4.5              -9.3         36               11           48.3   \n",
       "4872    22.7              14.9         61               11           25.0   \n",
       "\n",
       "      Press_kPa  Std_Weather  \n",
       "292       99.13            1  \n",
       "8100     101.96            1  \n",
       "7164     101.77            1  \n",
       "2336     101.51            1  \n",
       "4872     101.19            1  "
      ]
     },
     "execution_count": 87,
     "metadata": {},
     "output_type": "execute_result"
    }
   ],
   "source": [
    "weather_df.head()"
   ]
  },
  {
   "cell_type": "code",
   "execution_count": 88,
   "id": "d0009723-1dc0-4172-b8e8-b50d07d321e2",
   "metadata": {},
   "outputs": [
    {
     "data": {
      "text/plain": [
       "Std_Weather\n",
       "2    603\n",
       "1    600\n",
       "0    600\n",
       "3    556\n",
       "Name: count, dtype: int64"
      ]
     },
     "execution_count": 88,
     "metadata": {},
     "output_type": "execute_result"
    }
   ],
   "source": [
    "weather_df.Std_Weather.value_counts()"
   ]
  },
  {
   "cell_type": "markdown",
   "id": "66839d4f-1c93-4002-9749-1d8012f825fe",
   "metadata": {},
   "source": [
    "##### X,y variables:"
   ]
  },
  {
   "cell_type": "code",
   "execution_count": 89,
   "id": "b2a8709a-2486-47aa-82ff-4ebf6522b105",
   "metadata": {},
   "outputs": [],
   "source": [
    "X = weather_df.drop(['Std_Weather'],axis = 1)"
   ]
  },
  {
   "cell_type": "code",
   "execution_count": 90,
   "id": "7a27dc98-e13d-41cb-8e66-979ff12276d1",
   "metadata": {},
   "outputs": [
    {
     "data": {
      "text/html": [
       "<div>\n",
       "<style scoped>\n",
       "    .dataframe tbody tr th:only-of-type {\n",
       "        vertical-align: middle;\n",
       "    }\n",
       "\n",
       "    .dataframe tbody tr th {\n",
       "        vertical-align: top;\n",
       "    }\n",
       "\n",
       "    .dataframe thead th {\n",
       "        text-align: right;\n",
       "    }\n",
       "</style>\n",
       "<table border=\"1\" class=\"dataframe\">\n",
       "  <thead>\n",
       "    <tr style=\"text-align: right;\">\n",
       "      <th></th>\n",
       "      <th>Temp_C</th>\n",
       "      <th>Dew Point Temp_C</th>\n",
       "      <th>Rel Hum_%</th>\n",
       "      <th>Wind Speed_km/h</th>\n",
       "      <th>Visibility_km</th>\n",
       "      <th>Press_kPa</th>\n",
       "    </tr>\n",
       "  </thead>\n",
       "  <tbody>\n",
       "    <tr>\n",
       "      <th>292</th>\n",
       "      <td>-5.0</td>\n",
       "      <td>-7.4</td>\n",
       "      <td>83</td>\n",
       "      <td>24</td>\n",
       "      <td>11.3</td>\n",
       "      <td>99.13</td>\n",
       "    </tr>\n",
       "    <tr>\n",
       "      <th>8100</th>\n",
       "      <td>3.9</td>\n",
       "      <td>1.3</td>\n",
       "      <td>83</td>\n",
       "      <td>9</td>\n",
       "      <td>24.1</td>\n",
       "      <td>101.96</td>\n",
       "    </tr>\n",
       "    <tr>\n",
       "      <th>7164</th>\n",
       "      <td>11.3</td>\n",
       "      <td>1.4</td>\n",
       "      <td>50</td>\n",
       "      <td>13</td>\n",
       "      <td>24.1</td>\n",
       "      <td>101.77</td>\n",
       "    </tr>\n",
       "    <tr>\n",
       "      <th>2336</th>\n",
       "      <td>4.5</td>\n",
       "      <td>-9.3</td>\n",
       "      <td>36</td>\n",
       "      <td>11</td>\n",
       "      <td>48.3</td>\n",
       "      <td>101.51</td>\n",
       "    </tr>\n",
       "    <tr>\n",
       "      <th>4872</th>\n",
       "      <td>22.7</td>\n",
       "      <td>14.9</td>\n",
       "      <td>61</td>\n",
       "      <td>11</td>\n",
       "      <td>25.0</td>\n",
       "      <td>101.19</td>\n",
       "    </tr>\n",
       "    <tr>\n",
       "      <th>...</th>\n",
       "      <td>...</td>\n",
       "      <td>...</td>\n",
       "      <td>...</td>\n",
       "      <td>...</td>\n",
       "      <td>...</td>\n",
       "      <td>...</td>\n",
       "    </tr>\n",
       "    <tr>\n",
       "      <th>8779</th>\n",
       "      <td>0.1</td>\n",
       "      <td>-2.7</td>\n",
       "      <td>81</td>\n",
       "      <td>30</td>\n",
       "      <td>9.7</td>\n",
       "      <td>100.13</td>\n",
       "    </tr>\n",
       "    <tr>\n",
       "      <th>8780</th>\n",
       "      <td>0.2</td>\n",
       "      <td>-2.4</td>\n",
       "      <td>83</td>\n",
       "      <td>24</td>\n",
       "      <td>9.7</td>\n",
       "      <td>100.03</td>\n",
       "    </tr>\n",
       "    <tr>\n",
       "      <th>8781</th>\n",
       "      <td>-0.5</td>\n",
       "      <td>-1.5</td>\n",
       "      <td>93</td>\n",
       "      <td>28</td>\n",
       "      <td>4.8</td>\n",
       "      <td>99.95</td>\n",
       "    </tr>\n",
       "    <tr>\n",
       "      <th>8782</th>\n",
       "      <td>-0.2</td>\n",
       "      <td>-1.8</td>\n",
       "      <td>89</td>\n",
       "      <td>28</td>\n",
       "      <td>9.7</td>\n",
       "      <td>99.91</td>\n",
       "    </tr>\n",
       "    <tr>\n",
       "      <th>8783</th>\n",
       "      <td>0.0</td>\n",
       "      <td>-2.1</td>\n",
       "      <td>86</td>\n",
       "      <td>30</td>\n",
       "      <td>11.3</td>\n",
       "      <td>99.89</td>\n",
       "    </tr>\n",
       "  </tbody>\n",
       "</table>\n",
       "<p>2359 rows × 6 columns</p>\n",
       "</div>"
      ],
      "text/plain": [
       "      Temp_C  Dew Point Temp_C  Rel Hum_%  Wind Speed_km/h  Visibility_km  \\\n",
       "292     -5.0              -7.4         83               24           11.3   \n",
       "8100     3.9               1.3         83                9           24.1   \n",
       "7164    11.3               1.4         50               13           24.1   \n",
       "2336     4.5              -9.3         36               11           48.3   \n",
       "4872    22.7              14.9         61               11           25.0   \n",
       "...      ...               ...        ...              ...            ...   \n",
       "8779     0.1              -2.7         81               30            9.7   \n",
       "8780     0.2              -2.4         83               24            9.7   \n",
       "8781    -0.5              -1.5         93               28            4.8   \n",
       "8782    -0.2              -1.8         89               28            9.7   \n",
       "8783     0.0              -2.1         86               30           11.3   \n",
       "\n",
       "      Press_kPa  \n",
       "292       99.13  \n",
       "8100     101.96  \n",
       "7164     101.77  \n",
       "2336     101.51  \n",
       "4872     101.19  \n",
       "...         ...  \n",
       "8779     100.13  \n",
       "8780     100.03  \n",
       "8781      99.95  \n",
       "8782      99.91  \n",
       "8783      99.89  \n",
       "\n",
       "[2359 rows x 6 columns]"
      ]
     },
     "execution_count": 90,
     "metadata": {},
     "output_type": "execute_result"
    }
   ],
   "source": [
    "X"
   ]
  },
  {
   "cell_type": "code",
   "execution_count": 91,
   "id": "a3a54119-d304-41f1-a6f9-8a8d4a9e36f9",
   "metadata": {},
   "outputs": [],
   "source": [
    "y = weather_df['Std_Weather']"
   ]
  },
  {
   "cell_type": "code",
   "execution_count": 92,
   "id": "cc7b78a8-96f9-4d19-a3a4-afe322434c32",
   "metadata": {},
   "outputs": [
    {
     "data": {
      "text/plain": [
       "292     1\n",
       "8100    1\n",
       "7164    1\n",
       "2336    1\n",
       "4872    1\n",
       "       ..\n",
       "8779    3\n",
       "8780    3\n",
       "8781    3\n",
       "8782    3\n",
       "8783    3\n",
       "Name: Std_Weather, Length: 2359, dtype: int32"
      ]
     },
     "execution_count": 92,
     "metadata": {},
     "output_type": "execute_result"
    }
   ],
   "source": [
    "y"
   ]
  },
  {
   "cell_type": "markdown",
   "id": "a9d137e3-6156-44b9-8e06-1135d5b4d8a4",
   "metadata": {},
   "source": [
    "##### Feature Scaling:"
   ]
  },
  {
   "cell_type": "code",
   "execution_count": 93,
   "id": "82359c73-9300-470f-802c-915eab4acbf4",
   "metadata": {},
   "outputs": [],
   "source": [
    "from sklearn.preprocessing import StandardScaler"
   ]
  },
  {
   "cell_type": "code",
   "execution_count": 94,
   "id": "e4d3a7bc-1608-4577-b0b5-5e396f6e2bf9",
   "metadata": {},
   "outputs": [],
   "source": [
    "std_scaler = StandardScaler()"
   ]
  },
  {
   "cell_type": "code",
   "execution_count": 95,
   "id": "b8415a31-5b46-46b0-ace6-bc646f5d02c8",
   "metadata": {},
   "outputs": [],
   "source": [
    "X_std = std_scaler.fit_transform(X)"
   ]
  },
  {
   "cell_type": "code",
   "execution_count": 96,
   "id": "f76473fa-f6d1-4cf3-bf6a-7326ceaf248b",
   "metadata": {},
   "outputs": [
    {
     "data": {
      "text/plain": [
       "array([[-1.02373063, -0.84942979,  0.67508726,  0.78396828, -0.93565494,\n",
       "        -1.8380993 ],\n",
       "       [-0.24554516, -0.03005874,  0.67508726, -0.82335066,  0.07715701,\n",
       "         1.27447233],\n",
       "       [ 0.40148545, -0.02064068, -1.39770275, -0.39473228,  0.07715701,\n",
       "         1.06550109],\n",
       "       ...,\n",
       "       [-0.63026607, -0.29376436,  1.30320545,  1.21258667, -1.4499735 ,\n",
       "        -0.93622342],\n",
       "       [-0.6040351 , -0.32201854,  1.05195817,  1.21258667, -1.06225643,\n",
       "        -0.98021737],\n",
       "       [-0.58654778, -0.35027271,  0.86352272,  1.42689586, -0.93565494,\n",
       "        -1.00221434]])"
      ]
     },
     "execution_count": 96,
     "metadata": {},
     "output_type": "execute_result"
    }
   ],
   "source": [
    "X_std"
   ]
  },
  {
   "cell_type": "markdown",
   "id": "571d5046-db76-4fe7-bad0-400a43e568a3",
   "metadata": {},
   "source": [
    "##### "
   ]
  },
  {
   "cell_type": "markdown",
   "id": "df36d6de-5868-4b1c-9db2-dae6620fde9e",
   "metadata": {},
   "source": [
    "##### Splitting Data into training and testing:"
   ]
  },
  {
   "cell_type": "code",
   "execution_count": 97,
   "id": "e0096aff-04f3-4e67-94cb-33afd062c6a8",
   "metadata": {},
   "outputs": [],
   "source": [
    "from sklearn.model_selection import train_test_split"
   ]
  },
  {
   "cell_type": "code",
   "execution_count": 98,
   "id": "bc2e35b4-59f7-41b7-a594-a83cda33a52e",
   "metadata": {},
   "outputs": [],
   "source": [
    "X_train,X_test,y_train,y_test = train_test_split(X_std,y,test_size=0.2,random_state=42)"
   ]
  },
  {
   "cell_type": "code",
   "execution_count": 99,
   "id": "e2f9e316-938e-4270-94c1-2de2fbe08bca",
   "metadata": {},
   "outputs": [
    {
     "data": {
      "text/plain": [
       "((1887, 6), (472, 6))"
      ]
     },
     "execution_count": 99,
     "metadata": {},
     "output_type": "execute_result"
    }
   ],
   "source": [
    "X_train.shape,X_test.shape"
   ]
  },
  {
   "cell_type": "markdown",
   "id": "a8543210-6aba-4310-a523-715ab2baad8a",
   "metadata": {},
   "source": [
    "##### Model Building:"
   ]
  },
  {
   "cell_type": "code",
   "execution_count": 100,
   "id": "dc76dc48-3b0b-47b0-9769-3a86b5a1f98e",
   "metadata": {},
   "outputs": [],
   "source": [
    "from sklearn.tree import DecisionTreeClassifier\n",
    "decision_tree_model = DecisionTreeClassifier()"
   ]
  },
  {
   "cell_type": "markdown",
   "id": "62209a84-43a2-4d94-b8dc-feceea100559",
   "metadata": {},
   "source": [
    "##### Model Predictions:"
   ]
  },
  {
   "cell_type": "code",
   "execution_count": 101,
   "id": "773e3fb2-581d-436b-9ac6-e07fd824ea1b",
   "metadata": {},
   "outputs": [
    {
     "data": {
      "text/html": [
       "<style>#sk-container-id-1 {color: black;}#sk-container-id-1 pre{padding: 0;}#sk-container-id-1 div.sk-toggleable {background-color: white;}#sk-container-id-1 label.sk-toggleable__label {cursor: pointer;display: block;width: 100%;margin-bottom: 0;padding: 0.3em;box-sizing: border-box;text-align: center;}#sk-container-id-1 label.sk-toggleable__label-arrow:before {content: \"▸\";float: left;margin-right: 0.25em;color: #696969;}#sk-container-id-1 label.sk-toggleable__label-arrow:hover:before {color: black;}#sk-container-id-1 div.sk-estimator:hover label.sk-toggleable__label-arrow:before {color: black;}#sk-container-id-1 div.sk-toggleable__content {max-height: 0;max-width: 0;overflow: hidden;text-align: left;background-color: #f0f8ff;}#sk-container-id-1 div.sk-toggleable__content pre {margin: 0.2em;color: black;border-radius: 0.25em;background-color: #f0f8ff;}#sk-container-id-1 input.sk-toggleable__control:checked~div.sk-toggleable__content {max-height: 200px;max-width: 100%;overflow: auto;}#sk-container-id-1 input.sk-toggleable__control:checked~label.sk-toggleable__label-arrow:before {content: \"▾\";}#sk-container-id-1 div.sk-estimator input.sk-toggleable__control:checked~label.sk-toggleable__label {background-color: #d4ebff;}#sk-container-id-1 div.sk-label input.sk-toggleable__control:checked~label.sk-toggleable__label {background-color: #d4ebff;}#sk-container-id-1 input.sk-hidden--visually {border: 0;clip: rect(1px 1px 1px 1px);clip: rect(1px, 1px, 1px, 1px);height: 1px;margin: -1px;overflow: hidden;padding: 0;position: absolute;width: 1px;}#sk-container-id-1 div.sk-estimator {font-family: monospace;background-color: #f0f8ff;border: 1px dotted black;border-radius: 0.25em;box-sizing: border-box;margin-bottom: 0.5em;}#sk-container-id-1 div.sk-estimator:hover {background-color: #d4ebff;}#sk-container-id-1 div.sk-parallel-item::after {content: \"\";width: 100%;border-bottom: 1px solid gray;flex-grow: 1;}#sk-container-id-1 div.sk-label:hover label.sk-toggleable__label {background-color: #d4ebff;}#sk-container-id-1 div.sk-serial::before {content: \"\";position: absolute;border-left: 1px solid gray;box-sizing: border-box;top: 0;bottom: 0;left: 50%;z-index: 0;}#sk-container-id-1 div.sk-serial {display: flex;flex-direction: column;align-items: center;background-color: white;padding-right: 0.2em;padding-left: 0.2em;position: relative;}#sk-container-id-1 div.sk-item {position: relative;z-index: 1;}#sk-container-id-1 div.sk-parallel {display: flex;align-items: stretch;justify-content: center;background-color: white;position: relative;}#sk-container-id-1 div.sk-item::before, #sk-container-id-1 div.sk-parallel-item::before {content: \"\";position: absolute;border-left: 1px solid gray;box-sizing: border-box;top: 0;bottom: 0;left: 50%;z-index: -1;}#sk-container-id-1 div.sk-parallel-item {display: flex;flex-direction: column;z-index: 1;position: relative;background-color: white;}#sk-container-id-1 div.sk-parallel-item:first-child::after {align-self: flex-end;width: 50%;}#sk-container-id-1 div.sk-parallel-item:last-child::after {align-self: flex-start;width: 50%;}#sk-container-id-1 div.sk-parallel-item:only-child::after {width: 0;}#sk-container-id-1 div.sk-dashed-wrapped {border: 1px dashed gray;margin: 0 0.4em 0.5em 0.4em;box-sizing: border-box;padding-bottom: 0.4em;background-color: white;}#sk-container-id-1 div.sk-label label {font-family: monospace;font-weight: bold;display: inline-block;line-height: 1.2em;}#sk-container-id-1 div.sk-label-container {text-align: center;}#sk-container-id-1 div.sk-container {/* jupyter's `normalize.less` sets `[hidden] { display: none; }` but bootstrap.min.css set `[hidden] { display: none !important; }` so we also need the `!important` here to be able to override the default hidden behavior on the sphinx rendered scikit-learn.org. See: https://github.com/scikit-learn/scikit-learn/issues/21755 */display: inline-block !important;position: relative;}#sk-container-id-1 div.sk-text-repr-fallback {display: none;}</style><div id=\"sk-container-id-1\" class=\"sk-top-container\"><div class=\"sk-text-repr-fallback\"><pre>DecisionTreeClassifier()</pre><b>In a Jupyter environment, please rerun this cell to show the HTML representation or trust the notebook. <br />On GitHub, the HTML representation is unable to render, please try loading this page with nbviewer.org.</b></div><div class=\"sk-container\" hidden><div class=\"sk-item\"><div class=\"sk-estimator sk-toggleable\"><input class=\"sk-toggleable__control sk-hidden--visually\" id=\"sk-estimator-id-1\" type=\"checkbox\" checked><label for=\"sk-estimator-id-1\" class=\"sk-toggleable__label sk-toggleable__label-arrow\">DecisionTreeClassifier</label><div class=\"sk-toggleable__content\"><pre>DecisionTreeClassifier()</pre></div></div></div></div></div>"
      ],
      "text/plain": [
       "DecisionTreeClassifier()"
      ]
     },
     "execution_count": 101,
     "metadata": {},
     "output_type": "execute_result"
    }
   ],
   "source": [
    "decision_tree_model.fit(X_train,y_train)"
   ]
  },
  {
   "cell_type": "code",
   "execution_count": 102,
   "id": "28c5a4a7-8fd3-4971-abcd-5226b33d142c",
   "metadata": {},
   "outputs": [],
   "source": [
    "y_pred = decision_tree_model.predict(X_test)"
   ]
  },
  {
   "cell_type": "markdown",
   "id": "99150e18-bacc-4581-91ca-28d141f16865",
   "metadata": {},
   "source": [
    "##### Model Evaluations:"
   ]
  },
  {
   "cell_type": "code",
   "execution_count": 103,
   "id": "9e7c094a-26c5-4d01-a775-65dae3e9ade0",
   "metadata": {},
   "outputs": [],
   "source": [
    "from sklearn.metrics import accuracy_score\n",
    "from sklearn.metrics import classification_report\n",
    "from sklearn.metrics import confusion_matrix"
   ]
  },
  {
   "cell_type": "markdown",
   "id": "4c0b19e2-0bfa-4653-939f-dbdd5acf2237",
   "metadata": {},
   "source": [
    "##### Accuracy:"
   ]
  },
  {
   "cell_type": "code",
   "execution_count": 104,
   "id": "a7404f39-6180-40a7-b8ad-fd6ebf31232e",
   "metadata": {},
   "outputs": [
    {
     "data": {
      "text/plain": [
       "0.5911016949152542"
      ]
     },
     "execution_count": 104,
     "metadata": {},
     "output_type": "execute_result"
    }
   ],
   "source": [
    "accuracy_score(y_test,y_pred)"
   ]
  },
  {
   "cell_type": "markdown",
   "id": "b02cec8e-44f6-42fe-ad36-56f36f9d6a24",
   "metadata": {},
   "source": [
    "##### Classification Report:"
   ]
  },
  {
   "cell_type": "code",
   "execution_count": 105,
   "id": "b5de1b25-fbc2-4484-8a73-833edf919a1a",
   "metadata": {},
   "outputs": [
    {
     "name": "stdout",
     "output_type": "stream",
     "text": [
      "              precision    recall  f1-score   support\n",
      "\n",
      "           0       0.54      0.59      0.56       118\n",
      "           1       0.42      0.38      0.40       128\n",
      "           2       0.68      0.70      0.69       126\n",
      "           3       0.76      0.72      0.74       100\n",
      "\n",
      "    accuracy                           0.59       472\n",
      "   macro avg       0.60      0.60      0.60       472\n",
      "weighted avg       0.59      0.59      0.59       472\n",
      "\n"
     ]
    }
   ],
   "source": [
    "print(classification_report(y_test,y_pred))"
   ]
  },
  {
   "cell_type": "markdown",
   "id": "535869e2-d9b4-4dbb-81a9-7f5e0dd1ed95",
   "metadata": {},
   "source": [
    "##### Confusion Matrix:"
   ]
  },
  {
   "cell_type": "markdown",
   "id": "a2f4ed96-4d76-46e5-a86e-f1aa91dce895",
   "metadata": {},
   "source": [
    "cm = confusion_matrix(y_test,y_pred)\n",
    "sns.heatmap(cm,annot=True,fmt='d')"
   ]
  },
  {
   "cell_type": "code",
   "execution_count": 106,
   "id": "283c7826-a29b-48f3-9e37-caf006ba9348",
   "metadata": {},
   "outputs": [],
   "source": [
    "from sklearn.ensemble import RandomForestClassifier"
   ]
  },
  {
   "cell_type": "code",
   "execution_count": 107,
   "id": "417c04d2-a262-4f4a-ab6e-d2e547605973",
   "metadata": {},
   "outputs": [],
   "source": [
    "rf_model = RandomForestClassifier()"
   ]
  },
  {
   "cell_type": "code",
   "execution_count": 108,
   "id": "f7200499-a477-4d78-96c0-eacc1956f683",
   "metadata": {},
   "outputs": [
    {
     "data": {
      "text/html": [
       "<style>#sk-container-id-2 {color: black;}#sk-container-id-2 pre{padding: 0;}#sk-container-id-2 div.sk-toggleable {background-color: white;}#sk-container-id-2 label.sk-toggleable__label {cursor: pointer;display: block;width: 100%;margin-bottom: 0;padding: 0.3em;box-sizing: border-box;text-align: center;}#sk-container-id-2 label.sk-toggleable__label-arrow:before {content: \"▸\";float: left;margin-right: 0.25em;color: #696969;}#sk-container-id-2 label.sk-toggleable__label-arrow:hover:before {color: black;}#sk-container-id-2 div.sk-estimator:hover label.sk-toggleable__label-arrow:before {color: black;}#sk-container-id-2 div.sk-toggleable__content {max-height: 0;max-width: 0;overflow: hidden;text-align: left;background-color: #f0f8ff;}#sk-container-id-2 div.sk-toggleable__content pre {margin: 0.2em;color: black;border-radius: 0.25em;background-color: #f0f8ff;}#sk-container-id-2 input.sk-toggleable__control:checked~div.sk-toggleable__content {max-height: 200px;max-width: 100%;overflow: auto;}#sk-container-id-2 input.sk-toggleable__control:checked~label.sk-toggleable__label-arrow:before {content: \"▾\";}#sk-container-id-2 div.sk-estimator input.sk-toggleable__control:checked~label.sk-toggleable__label {background-color: #d4ebff;}#sk-container-id-2 div.sk-label input.sk-toggleable__control:checked~label.sk-toggleable__label {background-color: #d4ebff;}#sk-container-id-2 input.sk-hidden--visually {border: 0;clip: rect(1px 1px 1px 1px);clip: rect(1px, 1px, 1px, 1px);height: 1px;margin: -1px;overflow: hidden;padding: 0;position: absolute;width: 1px;}#sk-container-id-2 div.sk-estimator {font-family: monospace;background-color: #f0f8ff;border: 1px dotted black;border-radius: 0.25em;box-sizing: border-box;margin-bottom: 0.5em;}#sk-container-id-2 div.sk-estimator:hover {background-color: #d4ebff;}#sk-container-id-2 div.sk-parallel-item::after {content: \"\";width: 100%;border-bottom: 1px solid gray;flex-grow: 1;}#sk-container-id-2 div.sk-label:hover label.sk-toggleable__label {background-color: #d4ebff;}#sk-container-id-2 div.sk-serial::before {content: \"\";position: absolute;border-left: 1px solid gray;box-sizing: border-box;top: 0;bottom: 0;left: 50%;z-index: 0;}#sk-container-id-2 div.sk-serial {display: flex;flex-direction: column;align-items: center;background-color: white;padding-right: 0.2em;padding-left: 0.2em;position: relative;}#sk-container-id-2 div.sk-item {position: relative;z-index: 1;}#sk-container-id-2 div.sk-parallel {display: flex;align-items: stretch;justify-content: center;background-color: white;position: relative;}#sk-container-id-2 div.sk-item::before, #sk-container-id-2 div.sk-parallel-item::before {content: \"\";position: absolute;border-left: 1px solid gray;box-sizing: border-box;top: 0;bottom: 0;left: 50%;z-index: -1;}#sk-container-id-2 div.sk-parallel-item {display: flex;flex-direction: column;z-index: 1;position: relative;background-color: white;}#sk-container-id-2 div.sk-parallel-item:first-child::after {align-self: flex-end;width: 50%;}#sk-container-id-2 div.sk-parallel-item:last-child::after {align-self: flex-start;width: 50%;}#sk-container-id-2 div.sk-parallel-item:only-child::after {width: 0;}#sk-container-id-2 div.sk-dashed-wrapped {border: 1px dashed gray;margin: 0 0.4em 0.5em 0.4em;box-sizing: border-box;padding-bottom: 0.4em;background-color: white;}#sk-container-id-2 div.sk-label label {font-family: monospace;font-weight: bold;display: inline-block;line-height: 1.2em;}#sk-container-id-2 div.sk-label-container {text-align: center;}#sk-container-id-2 div.sk-container {/* jupyter's `normalize.less` sets `[hidden] { display: none; }` but bootstrap.min.css set `[hidden] { display: none !important; }` so we also need the `!important` here to be able to override the default hidden behavior on the sphinx rendered scikit-learn.org. See: https://github.com/scikit-learn/scikit-learn/issues/21755 */display: inline-block !important;position: relative;}#sk-container-id-2 div.sk-text-repr-fallback {display: none;}</style><div id=\"sk-container-id-2\" class=\"sk-top-container\"><div class=\"sk-text-repr-fallback\"><pre>RandomForestClassifier()</pre><b>In a Jupyter environment, please rerun this cell to show the HTML representation or trust the notebook. <br />On GitHub, the HTML representation is unable to render, please try loading this page with nbviewer.org.</b></div><div class=\"sk-container\" hidden><div class=\"sk-item\"><div class=\"sk-estimator sk-toggleable\"><input class=\"sk-toggleable__control sk-hidden--visually\" id=\"sk-estimator-id-2\" type=\"checkbox\" checked><label for=\"sk-estimator-id-2\" class=\"sk-toggleable__label sk-toggleable__label-arrow\">RandomForestClassifier</label><div class=\"sk-toggleable__content\"><pre>RandomForestClassifier()</pre></div></div></div></div></div>"
      ],
      "text/plain": [
       "RandomForestClassifier()"
      ]
     },
     "execution_count": 108,
     "metadata": {},
     "output_type": "execute_result"
    }
   ],
   "source": [
    "rf_model.fit(X_train,y_train)"
   ]
  },
  {
   "cell_type": "code",
   "execution_count": 109,
   "id": "332b3e21-00e1-414e-a1c7-f9ce39ed4204",
   "metadata": {},
   "outputs": [],
   "source": [
    "y_pred_rf = rf_model.predict(X_test)"
   ]
  },
  {
   "cell_type": "code",
   "execution_count": 110,
   "id": "05c78fbe-3c97-497c-89e5-c1a791f6dfd5",
   "metadata": {},
   "outputs": [
    {
     "data": {
      "text/plain": [
       "0.5911016949152542"
      ]
     },
     "execution_count": 110,
     "metadata": {},
     "output_type": "execute_result"
    }
   ],
   "source": [
    "accuracy_score(y_test,y_pred)"
   ]
  },
  {
   "cell_type": "markdown",
   "id": "3b9afb34-ebc9-49d3-95ce-90d5c2729b1a",
   "metadata": {},
   "source": [
    "##### Building multiple models: Best model:"
   ]
  },
  {
   "cell_type": "code",
   "execution_count": 136,
   "id": "a626d68c-ab71-4aac-bc64-5c53ec0e017c",
   "metadata": {},
   "outputs": [],
   "source": [
    "from sklearn.tree import DecisionTreeClassifier\n",
    "from sklearn.ensemble import RandomForestClassifier\n",
    "from sklearn.svm import SVC\n",
    "from sklearn.neighbors import KNeighborsClassifier\n",
    "from sklearn.linear_model import LogisticRegression\n",
    "from sklearn.naive_bayes import GaussianNB\n",
    "from sklearn.ensemble import GradientBoostingClassifier\n",
    "from sklearn.ensemble import AdaBoostClassifier\n",
    "#from sklearn.ensemble import ExtraTreesClassifier\n"
   ]
  },
  {
   "cell_type": "code",
   "execution_count": 137,
   "id": "48f0c1c7-7979-4263-b40c-37e3ba143310",
   "metadata": {},
   "outputs": [],
   "source": [
    "dt_model = DecisionTreeClassifier()\n",
    "rf_model = RandomForestClassifier()\n",
    "svc_model = SVC()\n",
    "knn_model = KNeighborsClassifier()\n",
    "lr_model = LogisticRegression()\n",
    "nb_model = GaussianNB()\n",
    "gb_model = GradientBoostingClassifier()\n",
    "ab_model = AdaBoostClassifier()\n",
    "#ex_model = ExtraTreesClassifier()"
   ]
  },
  {
   "cell_type": "code",
   "execution_count": 138,
   "id": "40161f0b-f25a-459d-a0f5-52187002bb2c",
   "metadata": {},
   "outputs": [],
   "source": [
    "model_list = [dt_model,rf_model,svc_model,knn_model,lr_model,nb_model,gb_model,ab_model]"
   ]
  },
  {
   "cell_type": "code",
   "execution_count": 139,
   "id": "d43746ae-f866-42a0-aaf0-29e20e7fc219",
   "metadata": {},
   "outputs": [],
   "source": [
    "acc_list = []\n",
    "for model in model_list:\n",
    "    model.fit(X_train,y_train)\n",
    "    y_pred = model.predict(X_test)\n",
    "    acc = accuracy_score(y_test,y_pred)\n",
    "    acc_list.append(acc)"
   ]
  },
  {
   "cell_type": "code",
   "execution_count": 140,
   "id": "55c408ce-6ed7-4c95-8be8-0c4e55e0de06",
   "metadata": {},
   "outputs": [
    {
     "data": {
      "text/plain": [
       "[0.5805084745762712,\n",
       " 0.673728813559322,\n",
       " 0.6271186440677966,\n",
       " 0.6207627118644068,\n",
       " 0.6101694915254238,\n",
       " 0.5953389830508474,\n",
       " 0.6652542372881356,\n",
       " 0.5614406779661016]"
      ]
     },
     "execution_count": 140,
     "metadata": {},
     "output_type": "execute_result"
    }
   ],
   "source": [
    "acc_list"
   ]
  },
  {
   "cell_type": "code",
   "execution_count": 142,
   "id": "3a0a80f6-d464-409e-aa29-09e3645e81c1",
   "metadata": {},
   "outputs": [
    {
     "data": {
      "text/html": [
       "<div>\n",
       "<style scoped>\n",
       "    .dataframe tbody tr th:only-of-type {\n",
       "        vertical-align: middle;\n",
       "    }\n",
       "\n",
       "    .dataframe tbody tr th {\n",
       "        vertical-align: top;\n",
       "    }\n",
       "\n",
       "    .dataframe thead th {\n",
       "        text-align: right;\n",
       "    }\n",
       "</style>\n",
       "<table border=\"1\" class=\"dataframe\">\n",
       "  <thead>\n",
       "    <tr style=\"text-align: right;\">\n",
       "      <th></th>\n",
       "      <th>Model</th>\n",
       "      <th>Accuracy</th>\n",
       "    </tr>\n",
       "  </thead>\n",
       "  <tbody>\n",
       "    <tr>\n",
       "      <th>1</th>\n",
       "      <td>(DecisionTreeClassifier(max_features='sqrt', r...</td>\n",
       "      <td>0.673729</td>\n",
       "    </tr>\n",
       "    <tr>\n",
       "      <th>6</th>\n",
       "      <td>([DecisionTreeRegressor(criterion='friedman_ms...</td>\n",
       "      <td>0.665254</td>\n",
       "    </tr>\n",
       "    <tr>\n",
       "      <th>2</th>\n",
       "      <td>SVC()</td>\n",
       "      <td>0.627119</td>\n",
       "    </tr>\n",
       "    <tr>\n",
       "      <th>3</th>\n",
       "      <td>KNeighborsClassifier()</td>\n",
       "      <td>0.620763</td>\n",
       "    </tr>\n",
       "    <tr>\n",
       "      <th>4</th>\n",
       "      <td>LogisticRegression()</td>\n",
       "      <td>0.610169</td>\n",
       "    </tr>\n",
       "    <tr>\n",
       "      <th>5</th>\n",
       "      <td>GaussianNB()</td>\n",
       "      <td>0.595339</td>\n",
       "    </tr>\n",
       "    <tr>\n",
       "      <th>0</th>\n",
       "      <td>DecisionTreeClassifier()</td>\n",
       "      <td>0.580508</td>\n",
       "    </tr>\n",
       "    <tr>\n",
       "      <th>7</th>\n",
       "      <td>(DecisionTreeClassifier(max_depth=1, random_st...</td>\n",
       "      <td>0.561441</td>\n",
       "    </tr>\n",
       "  </tbody>\n",
       "</table>\n",
       "</div>"
      ],
      "text/plain": [
       "                                               Model  Accuracy\n",
       "1  (DecisionTreeClassifier(max_features='sqrt', r...  0.673729\n",
       "6  ([DecisionTreeRegressor(criterion='friedman_ms...  0.665254\n",
       "2                                              SVC()  0.627119\n",
       "3                             KNeighborsClassifier()  0.620763\n",
       "4                               LogisticRegression()  0.610169\n",
       "5                                       GaussianNB()  0.595339\n",
       "0                           DecisionTreeClassifier()  0.580508\n",
       "7  (DecisionTreeClassifier(max_depth=1, random_st...  0.561441"
      ]
     },
     "execution_count": 142,
     "metadata": {},
     "output_type": "execute_result"
    }
   ],
   "source": [
    "model_df = pd.DataFrame({'Model' : model_list, \"Accuracy\" : acc_list})\n",
    "model_df.sort_values(by=[\"Accuracy\"],ascending=False)"
   ]
  },
  {
   "cell_type": "markdown",
   "id": "0d6408e5-7f99-4f1a-9ef9-a472991c4fe2",
   "metadata": {},
   "source": [
    "##### K-fold cross validation"
   ]
  },
  {
   "cell_type": "code",
   "execution_count": 158,
   "id": "b0d0b3b4-73df-4191-86ab-11702e0f9bd1",
   "metadata": {},
   "outputs": [
    {
     "data": {
      "text/html": [
       "<div>\n",
       "<style scoped>\n",
       "    .dataframe tbody tr th:only-of-type {\n",
       "        vertical-align: middle;\n",
       "    }\n",
       "\n",
       "    .dataframe tbody tr th {\n",
       "        vertical-align: top;\n",
       "    }\n",
       "\n",
       "    .dataframe thead th {\n",
       "        text-align: right;\n",
       "    }\n",
       "</style>\n",
       "<table border=\"1\" class=\"dataframe\">\n",
       "  <thead>\n",
       "    <tr style=\"text-align: right;\">\n",
       "      <th></th>\n",
       "      <th>Model</th>\n",
       "      <th>Cross_Val_Accuracy</th>\n",
       "    </tr>\n",
       "  </thead>\n",
       "  <tbody>\n",
       "    <tr>\n",
       "      <th>0</th>\n",
       "      <td>DecisionTreeClassifier</td>\n",
       "      <td>55.999766</td>\n",
       "    </tr>\n",
       "    <tr>\n",
       "      <th>1</th>\n",
       "      <td>RandomForestClassifier</td>\n",
       "      <td>63.545378</td>\n",
       "    </tr>\n",
       "    <tr>\n",
       "      <th>2</th>\n",
       "      <td>SVC</td>\n",
       "      <td>60.876786</td>\n",
       "    </tr>\n",
       "    <tr>\n",
       "      <th>3</th>\n",
       "      <td>KNeighborsClassifier</td>\n",
       "      <td>55.916280</td>\n",
       "    </tr>\n",
       "    <tr>\n",
       "      <th>4</th>\n",
       "      <td>LogisticRegression</td>\n",
       "      <td>60.241013</td>\n",
       "    </tr>\n",
       "    <tr>\n",
       "      <th>5</th>\n",
       "      <td>GaussianNB</td>\n",
       "      <td>59.052143</td>\n",
       "    </tr>\n",
       "    <tr>\n",
       "      <th>6</th>\n",
       "      <td>GradientBoostingClassifier</td>\n",
       "      <td>63.461801</td>\n",
       "    </tr>\n",
       "    <tr>\n",
       "      <th>7</th>\n",
       "      <td>AdaBoostClassifier</td>\n",
       "      <td>57.184407</td>\n",
       "    </tr>\n",
       "  </tbody>\n",
       "</table>\n",
       "</div>"
      ],
      "text/plain": [
       "                        Model  Cross_Val_Accuracy\n",
       "0      DecisionTreeClassifier           55.999766\n",
       "1      RandomForestClassifier           63.545378\n",
       "2                         SVC           60.876786\n",
       "3        KNeighborsClassifier           55.916280\n",
       "4          LogisticRegression           60.241013\n",
       "5                  GaussianNB           59.052143\n",
       "6  GradientBoostingClassifier           63.461801\n",
       "7          AdaBoostClassifier           57.184407"
      ]
     },
     "execution_count": 158,
     "metadata": {},
     "output_type": "execute_result"
    }
   ],
   "source": [
    "import warnings\n",
    "warnings.filterwarnings(\"ignore\")\n",
    "\n",
    "from sklearn.model_selection import cross_val_score\n",
    "\n",
    "models = [dt_model,rf_model,svc_model,knn_model,lr_model,nb_model,gb_model,ab_model]\n",
    "features = X_std\n",
    "labels = y\n",
    "CV = 5\n",
    "accu_list = []\n",
    "ModelName = []\n",
    "\n",
    "for model in models:\n",
    "    model_name = model.__class__.__name__\n",
    "    accuracies = cross_val_score(model,features,labels,scoring=\"accuracy\",cv = CV)\n",
    "    accu_list.append(accuracies.mean()*100)\n",
    "    ModelName.append(model_name)\n",
    "\n",
    "model_acc_df = pd.DataFrame({\"Model\":ModelName,\"Cross_Val_Accuracy\": accu_list})\n",
    "model_acc_df\n"
   ]
  },
  {
   "cell_type": "code",
   "execution_count": 160,
   "id": "c803d944-bb86-4d9a-8b81-2135e6806f92",
   "metadata": {},
   "outputs": [
    {
     "data": {
      "text/html": [
       "<div>\n",
       "<style scoped>\n",
       "    .dataframe tbody tr th:only-of-type {\n",
       "        vertical-align: middle;\n",
       "    }\n",
       "\n",
       "    .dataframe tbody tr th {\n",
       "        vertical-align: top;\n",
       "    }\n",
       "\n",
       "    .dataframe thead th {\n",
       "        text-align: right;\n",
       "    }\n",
       "</style>\n",
       "<table border=\"1\" class=\"dataframe\">\n",
       "  <thead>\n",
       "    <tr style=\"text-align: right;\">\n",
       "      <th></th>\n",
       "      <th>Model</th>\n",
       "      <th>Cross_Val_Accuracy</th>\n",
       "    </tr>\n",
       "  </thead>\n",
       "  <tbody>\n",
       "    <tr>\n",
       "      <th>1</th>\n",
       "      <td>RandomForestClassifier</td>\n",
       "      <td>63.545378</td>\n",
       "    </tr>\n",
       "    <tr>\n",
       "      <th>6</th>\n",
       "      <td>GradientBoostingClassifier</td>\n",
       "      <td>63.461801</td>\n",
       "    </tr>\n",
       "    <tr>\n",
       "      <th>2</th>\n",
       "      <td>SVC</td>\n",
       "      <td>60.876786</td>\n",
       "    </tr>\n",
       "    <tr>\n",
       "      <th>4</th>\n",
       "      <td>LogisticRegression</td>\n",
       "      <td>60.241013</td>\n",
       "    </tr>\n",
       "    <tr>\n",
       "      <th>5</th>\n",
       "      <td>GaussianNB</td>\n",
       "      <td>59.052143</td>\n",
       "    </tr>\n",
       "    <tr>\n",
       "      <th>7</th>\n",
       "      <td>AdaBoostClassifier</td>\n",
       "      <td>57.184407</td>\n",
       "    </tr>\n",
       "    <tr>\n",
       "      <th>0</th>\n",
       "      <td>DecisionTreeClassifier</td>\n",
       "      <td>55.999766</td>\n",
       "    </tr>\n",
       "    <tr>\n",
       "      <th>3</th>\n",
       "      <td>KNeighborsClassifier</td>\n",
       "      <td>55.916280</td>\n",
       "    </tr>\n",
       "  </tbody>\n",
       "</table>\n",
       "</div>"
      ],
      "text/plain": [
       "                        Model  Cross_Val_Accuracy\n",
       "1      RandomForestClassifier           63.545378\n",
       "6  GradientBoostingClassifier           63.461801\n",
       "2                         SVC           60.876786\n",
       "4          LogisticRegression           60.241013\n",
       "5                  GaussianNB           59.052143\n",
       "7          AdaBoostClassifier           57.184407\n",
       "0      DecisionTreeClassifier           55.999766\n",
       "3        KNeighborsClassifier           55.916280"
      ]
     },
     "execution_count": 160,
     "metadata": {},
     "output_type": "execute_result"
    }
   ],
   "source": [
    "model_acc_df.sort_values(by=[\"Cross_Val_Accuracy\"],ascending=False)"
   ]
  },
  {
   "cell_type": "markdown",
   "id": "b7ff0cf5-d337-4e26-9574-9d32cff4e7dd",
   "metadata": {},
   "source": [
    "### Model Evaluations:\n"
   ]
  },
  {
   "cell_type": "code",
   "execution_count": 162,
   "id": "3171037f-2687-45a6-b910-4a7163bbe106",
   "metadata": {},
   "outputs": [],
   "source": [
    "from sklearn.metrics import accuracy_score\n",
    "from sklearn.metrics import classification_report\n",
    "from sklearn.metrics import confusion_matrix"
   ]
  },
  {
   "cell_type": "markdown",
   "id": "84db9ade-b622-4bbd-a10b-f08a135d4f09",
   "metadata": {},
   "source": [
    "### Classification Report"
   ]
  },
  {
   "cell_type": "code",
   "execution_count": 163,
   "id": "fcdabcdd-df9c-46b4-a4d6-8e75eca31d0f",
   "metadata": {},
   "outputs": [
    {
     "data": {
      "text/html": [
       "<style>#sk-container-id-7 {color: black;}#sk-container-id-7 pre{padding: 0;}#sk-container-id-7 div.sk-toggleable {background-color: white;}#sk-container-id-7 label.sk-toggleable__label {cursor: pointer;display: block;width: 100%;margin-bottom: 0;padding: 0.3em;box-sizing: border-box;text-align: center;}#sk-container-id-7 label.sk-toggleable__label-arrow:before {content: \"▸\";float: left;margin-right: 0.25em;color: #696969;}#sk-container-id-7 label.sk-toggleable__label-arrow:hover:before {color: black;}#sk-container-id-7 div.sk-estimator:hover label.sk-toggleable__label-arrow:before {color: black;}#sk-container-id-7 div.sk-toggleable__content {max-height: 0;max-width: 0;overflow: hidden;text-align: left;background-color: #f0f8ff;}#sk-container-id-7 div.sk-toggleable__content pre {margin: 0.2em;color: black;border-radius: 0.25em;background-color: #f0f8ff;}#sk-container-id-7 input.sk-toggleable__control:checked~div.sk-toggleable__content {max-height: 200px;max-width: 100%;overflow: auto;}#sk-container-id-7 input.sk-toggleable__control:checked~label.sk-toggleable__label-arrow:before {content: \"▾\";}#sk-container-id-7 div.sk-estimator input.sk-toggleable__control:checked~label.sk-toggleable__label {background-color: #d4ebff;}#sk-container-id-7 div.sk-label input.sk-toggleable__control:checked~label.sk-toggleable__label {background-color: #d4ebff;}#sk-container-id-7 input.sk-hidden--visually {border: 0;clip: rect(1px 1px 1px 1px);clip: rect(1px, 1px, 1px, 1px);height: 1px;margin: -1px;overflow: hidden;padding: 0;position: absolute;width: 1px;}#sk-container-id-7 div.sk-estimator {font-family: monospace;background-color: #f0f8ff;border: 1px dotted black;border-radius: 0.25em;box-sizing: border-box;margin-bottom: 0.5em;}#sk-container-id-7 div.sk-estimator:hover {background-color: #d4ebff;}#sk-container-id-7 div.sk-parallel-item::after {content: \"\";width: 100%;border-bottom: 1px solid gray;flex-grow: 1;}#sk-container-id-7 div.sk-label:hover label.sk-toggleable__label {background-color: #d4ebff;}#sk-container-id-7 div.sk-serial::before {content: \"\";position: absolute;border-left: 1px solid gray;box-sizing: border-box;top: 0;bottom: 0;left: 50%;z-index: 0;}#sk-container-id-7 div.sk-serial {display: flex;flex-direction: column;align-items: center;background-color: white;padding-right: 0.2em;padding-left: 0.2em;position: relative;}#sk-container-id-7 div.sk-item {position: relative;z-index: 1;}#sk-container-id-7 div.sk-parallel {display: flex;align-items: stretch;justify-content: center;background-color: white;position: relative;}#sk-container-id-7 div.sk-item::before, #sk-container-id-7 div.sk-parallel-item::before {content: \"\";position: absolute;border-left: 1px solid gray;box-sizing: border-box;top: 0;bottom: 0;left: 50%;z-index: -1;}#sk-container-id-7 div.sk-parallel-item {display: flex;flex-direction: column;z-index: 1;position: relative;background-color: white;}#sk-container-id-7 div.sk-parallel-item:first-child::after {align-self: flex-end;width: 50%;}#sk-container-id-7 div.sk-parallel-item:last-child::after {align-self: flex-start;width: 50%;}#sk-container-id-7 div.sk-parallel-item:only-child::after {width: 0;}#sk-container-id-7 div.sk-dashed-wrapped {border: 1px dashed gray;margin: 0 0.4em 0.5em 0.4em;box-sizing: border-box;padding-bottom: 0.4em;background-color: white;}#sk-container-id-7 div.sk-label label {font-family: monospace;font-weight: bold;display: inline-block;line-height: 1.2em;}#sk-container-id-7 div.sk-label-container {text-align: center;}#sk-container-id-7 div.sk-container {/* jupyter's `normalize.less` sets `[hidden] { display: none; }` but bootstrap.min.css set `[hidden] { display: none !important; }` so we also need the `!important` here to be able to override the default hidden behavior on the sphinx rendered scikit-learn.org. See: https://github.com/scikit-learn/scikit-learn/issues/21755 */display: inline-block !important;position: relative;}#sk-container-id-7 div.sk-text-repr-fallback {display: none;}</style><div id=\"sk-container-id-7\" class=\"sk-top-container\"><div class=\"sk-text-repr-fallback\"><pre>RandomForestClassifier()</pre><b>In a Jupyter environment, please rerun this cell to show the HTML representation or trust the notebook. <br />On GitHub, the HTML representation is unable to render, please try loading this page with nbviewer.org.</b></div><div class=\"sk-container\" hidden><div class=\"sk-item\"><div class=\"sk-estimator sk-toggleable\"><input class=\"sk-toggleable__control sk-hidden--visually\" id=\"sk-estimator-id-11\" type=\"checkbox\" checked><label for=\"sk-estimator-id-11\" class=\"sk-toggleable__label sk-toggleable__label-arrow\">RandomForestClassifier</label><div class=\"sk-toggleable__content\"><pre>RandomForestClassifier()</pre></div></div></div></div></div>"
      ],
      "text/plain": [
       "RandomForestClassifier()"
      ]
     },
     "execution_count": 163,
     "metadata": {},
     "output_type": "execute_result"
    }
   ],
   "source": [
    "rf_model.fit(X_train,y_train)"
   ]
  },
  {
   "cell_type": "code",
   "execution_count": 166,
   "id": "712c12a4-85f3-4734-89a8-196a77842fc5",
   "metadata": {},
   "outputs": [],
   "source": [
    "y_pred = rf_model.predict(X_test)"
   ]
  },
  {
   "cell_type": "code",
   "execution_count": 167,
   "id": "b131e300-f7aa-4fee-9b58-54e36b9f9cbd",
   "metadata": {},
   "outputs": [
    {
     "name": "stdout",
     "output_type": "stream",
     "text": [
      "              precision    recall  f1-score   support\n",
      "\n",
      "           0       0.59      0.73      0.65       118\n",
      "           1       0.54      0.44      0.48       128\n",
      "           2       0.76      0.74      0.75       126\n",
      "           3       0.80      0.80      0.80       100\n",
      "\n",
      "    accuracy                           0.67       472\n",
      "   macro avg       0.67      0.68      0.67       472\n",
      "weighted avg       0.67      0.67      0.66       472\n",
      "\n"
     ]
    }
   ],
   "source": [
    "print(classification_report(y_test,y_pred))"
   ]
  },
  {
   "cell_type": "markdown",
   "id": "6ec83e2f-383e-488e-81ef-ea0c3d8df1de",
   "metadata": {},
   "source": [
    "### Confusion Matrix"
   ]
  },
  {
   "cell_type": "code",
   "execution_count": 171,
   "id": "1a8145e2-9997-49f5-bac8-3d72edfc1476",
   "metadata": {},
   "outputs": [
    {
     "data": {
      "text/plain": [
       "<Axes: >"
      ]
     },
     "execution_count": 171,
     "metadata": {},
     "output_type": "execute_result"
    },
    {
     "data": {
      "image/png": "[encoded data removed]",
      "text/plain": [
       "<Figure size 640x480 with 2 Axes>"
      ]
     },
     "metadata": {},
     "output_type": "display_data"
    }
   ],
   "source": [
    "cm = confusion_matrix(y_test,y_pred)\n",
    "sns.heatmap(cm,annot=True,fmt = \"d\")"
   ]
  },
  {
   "cell_type": "markdown",
   "id": "c596791b-562c-42d4-b443-e4f253f04b63",
   "metadata": {},
   "source": [
    "### Hyperparameter tunning"
   ]
  },
  {
   "cell_type": "code",
   "execution_count": 172,
   "id": "736871c3-af27-459b-bff3-4b9269d96f48",
   "metadata": {},
   "outputs": [],
   "source": [
    "from sklearn.model_selection import GridSearchCV,RandomizedSearchCV"
   ]
  },
  {
   "cell_type": "code",
   "execution_count": 174,
   "id": "a5ca796a-617c-48a6-bbdb-7d83ef22bc49",
   "metadata": {},
   "outputs": [],
   "source": [
    "parameters = { \"n_estimators\" :[50,100],\n",
    "              \"max_features\" : [\"sqrt\",\"log2\"],\n",
    "              \"criterion\":[\"gini\",\"entropy\"]}"
   ]
  },
  {
   "cell_type": "code",
   "execution_count": 175,
   "id": "7fa151cb-7ac6-48a6-ac56-f52028f043c0",
   "metadata": {},
   "outputs": [],
   "source": [
    "grid_search = GridSearchCV(estimator=rf_model,param_grid = parameters)"
   ]
  },
  {
   "cell_type": "code",
   "execution_count": 176,
   "id": "13f9eeba-8430-4aad-8303-4372941c4a69",
   "metadata": {},
   "outputs": [
    {
     "data": {
      "text/html": [
       "<style>#sk-container-id-8 {color: black;}#sk-container-id-8 pre{padding: 0;}#sk-container-id-8 div.sk-toggleable {background-color: white;}#sk-container-id-8 label.sk-toggleable__label {cursor: pointer;display: block;width: 100%;margin-bottom: 0;padding: 0.3em;box-sizing: border-box;text-align: center;}#sk-container-id-8 label.sk-toggleable__label-arrow:before {content: \"▸\";float: left;margin-right: 0.25em;color: #696969;}#sk-container-id-8 label.sk-toggleable__label-arrow:hover:before {color: black;}#sk-container-id-8 div.sk-estimator:hover label.sk-toggleable__label-arrow:before {color: black;}#sk-container-id-8 div.sk-toggleable__content {max-height: 0;max-width: 0;overflow: hidden;text-align: left;background-color: #f0f8ff;}#sk-container-id-8 div.sk-toggleable__content pre {margin: 0.2em;color: black;border-radius: 0.25em;background-color: #f0f8ff;}#sk-container-id-8 input.sk-toggleable__control:checked~div.sk-toggleable__content {max-height: 200px;max-width: 100%;overflow: auto;}#sk-container-id-8 input.sk-toggleable__control:checked~label.sk-toggleable__label-arrow:before {content: \"▾\";}#sk-container-id-8 div.sk-estimator input.sk-toggleable__control:checked~label.sk-toggleable__label {background-color: #d4ebff;}#sk-container-id-8 div.sk-label input.sk-toggleable__control:checked~label.sk-toggleable__label {background-color: #d4ebff;}#sk-container-id-8 input.sk-hidden--visually {border: 0;clip: rect(1px 1px 1px 1px);clip: rect(1px, 1px, 1px, 1px);height: 1px;margin: -1px;overflow: hidden;padding: 0;position: absolute;width: 1px;}#sk-container-id-8 div.sk-estimator {font-family: monospace;background-color: #f0f8ff;border: 1px dotted black;border-radius: 0.25em;box-sizing: border-box;margin-bottom: 0.5em;}#sk-container-id-8 div.sk-estimator:hover {background-color: #d4ebff;}#sk-container-id-8 div.sk-parallel-item::after {content: \"\";width: 100%;border-bottom: 1px solid gray;flex-grow: 1;}#sk-container-id-8 div.sk-label:hover label.sk-toggleable__label {background-color: #d4ebff;}#sk-container-id-8 div.sk-serial::before {content: \"\";position: absolute;border-left: 1px solid gray;box-sizing: border-box;top: 0;bottom: 0;left: 50%;z-index: 0;}#sk-container-id-8 div.sk-serial {display: flex;flex-direction: column;align-items: center;background-color: white;padding-right: 0.2em;padding-left: 0.2em;position: relative;}#sk-container-id-8 div.sk-item {position: relative;z-index: 1;}#sk-container-id-8 div.sk-parallel {display: flex;align-items: stretch;justify-content: center;background-color: white;position: relative;}#sk-container-id-8 div.sk-item::before, #sk-container-id-8 div.sk-parallel-item::before {content: \"\";position: absolute;border-left: 1px solid gray;box-sizing: border-box;top: 0;bottom: 0;left: 50%;z-index: -1;}#sk-container-id-8 div.sk-parallel-item {display: flex;flex-direction: column;z-index: 1;position: relative;background-color: white;}#sk-container-id-8 div.sk-parallel-item:first-child::after {align-self: flex-end;width: 50%;}#sk-container-id-8 div.sk-parallel-item:last-child::after {align-self: flex-start;width: 50%;}#sk-container-id-8 div.sk-parallel-item:only-child::after {width: 0;}#sk-container-id-8 div.sk-dashed-wrapped {border: 1px dashed gray;margin: 0 0.4em 0.5em 0.4em;box-sizing: border-box;padding-bottom: 0.4em;background-color: white;}#sk-container-id-8 div.sk-label label {font-family: monospace;font-weight: bold;display: inline-block;line-height: 1.2em;}#sk-container-id-8 div.sk-label-container {text-align: center;}#sk-container-id-8 div.sk-container {/* jupyter's `normalize.less` sets `[hidden] { display: none; }` but bootstrap.min.css set `[hidden] { display: none !important; }` so we also need the `!important` here to be able to override the default hidden behavior on the sphinx rendered scikit-learn.org. See: https://github.com/scikit-learn/scikit-learn/issues/21755 */display: inline-block !important;position: relative;}#sk-container-id-8 div.sk-text-repr-fallback {display: none;}</style><div id=\"sk-container-id-8\" class=\"sk-top-container\"><div class=\"sk-text-repr-fallback\"><pre>GridSearchCV(estimator=RandomForestClassifier(),\n",
       "             param_grid={&#x27;criterion&#x27;: [&#x27;gini&#x27;, &#x27;entropy&#x27;],\n",
       "                         &#x27;max_features&#x27;: [&#x27;sqrt&#x27;, &#x27;log2&#x27;],\n",
       "                         &#x27;n_estimators&#x27;: [50, 100]})</pre><b>In a Jupyter environment, please rerun this cell to show the HTML representation or trust the notebook. <br />On GitHub, the HTML representation is unable to render, please try loading this page with nbviewer.org.</b></div><div class=\"sk-container\" hidden><div class=\"sk-item sk-dashed-wrapped\"><div class=\"sk-label-container\"><div class=\"sk-label sk-toggleable\"><input class=\"sk-toggleable__control sk-hidden--visually\" id=\"sk-estimator-id-12\" type=\"checkbox\" ><label for=\"sk-estimator-id-12\" class=\"sk-toggleable__label sk-toggleable__label-arrow\">GridSearchCV</label><div class=\"sk-toggleable__content\"><pre>GridSearchCV(estimator=RandomForestClassifier(),\n",
       "             param_grid={&#x27;criterion&#x27;: [&#x27;gini&#x27;, &#x27;entropy&#x27;],\n",
       "                         &#x27;max_features&#x27;: [&#x27;sqrt&#x27;, &#x27;log2&#x27;],\n",
       "                         &#x27;n_estimators&#x27;: [50, 100]})</pre></div></div></div><div class=\"sk-parallel\"><div class=\"sk-parallel-item\"><div class=\"sk-item\"><div class=\"sk-label-container\"><div class=\"sk-label sk-toggleable\"><input class=\"sk-toggleable__control sk-hidden--visually\" id=\"sk-estimator-id-13\" type=\"checkbox\" ><label for=\"sk-estimator-id-13\" class=\"sk-toggleable__label sk-toggleable__label-arrow\">estimator: RandomForestClassifier</label><div class=\"sk-toggleable__content\"><pre>RandomForestClassifier()</pre></div></div></div><div class=\"sk-serial\"><div class=\"sk-item\"><div class=\"sk-estimator sk-toggleable\"><input class=\"sk-toggleable__control sk-hidden--visually\" id=\"sk-estimator-id-14\" type=\"checkbox\" ><label for=\"sk-estimator-id-14\" class=\"sk-toggleable__label sk-toggleable__label-arrow\">RandomForestClassifier</label><div class=\"sk-toggleable__content\"><pre>RandomForestClassifier()</pre></div></div></div></div></div></div></div></div></div></div>"
      ],
      "text/plain": [
       "GridSearchCV(estimator=RandomForestClassifier(),\n",
       "             param_grid={'criterion': ['gini', 'entropy'],\n",
       "                         'max_features': ['sqrt', 'log2'],\n",
       "                         'n_estimators': [50, 100]})"
      ]
     },
     "execution_count": 176,
     "metadata": {},
     "output_type": "execute_result"
    }
   ],
   "source": [
    "grid_search.fit(X_train,y_train)"
   ]
  },
  {
   "cell_type": "markdown",
   "id": "3e0f3d55-9b0e-44da-a185-cc09484e3b1b",
   "metadata": {},
   "source": [
    "### Best Hyperparamaeters"
   ]
  },
  {
   "cell_type": "code",
   "execution_count": 178,
   "id": "6d063560-f23a-464d-ac5c-8a59b753ade4",
   "metadata": {},
   "outputs": [
    {
     "data": {
      "text/plain": [
       "{'criterion': 'gini', 'max_features': 'sqrt', 'n_estimators': 50}"
      ]
     },
     "execution_count": 178,
     "metadata": {},
     "output_type": "execute_result"
    }
   ],
   "source": [
    "grid_search.best_params_"
   ]
  },
  {
   "cell_type": "code",
   "execution_count": 179,
   "id": "0b90867e-1866-4b78-9a6e-3988ace67858",
   "metadata": {},
   "outputs": [],
   "source": [
    "RF_model = RandomForestClassifier(criterion=\"gini\",max_features=\"sqrt\",n_estimators=50)"
   ]
  },
  {
   "cell_type": "code",
   "execution_count": 180,
   "id": "7fac3978-0908-472f-a44f-2c67b75066b3",
   "metadata": {},
   "outputs": [
    {
     "data": {
      "text/html": [
       "<style>#sk-container-id-9 {color: black;}#sk-container-id-9 pre{padding: 0;}#sk-container-id-9 div.sk-toggleable {background-color: white;}#sk-container-id-9 label.sk-toggleable__label {cursor: pointer;display: block;width: 100%;margin-bottom: 0;padding: 0.3em;box-sizing: border-box;text-align: center;}#sk-container-id-9 label.sk-toggleable__label-arrow:before {content: \"▸\";float: left;margin-right: 0.25em;color: #696969;}#sk-container-id-9 label.sk-toggleable__label-arrow:hover:before {color: black;}#sk-container-id-9 div.sk-estimator:hover label.sk-toggleable__label-arrow:before {color: black;}#sk-container-id-9 div.sk-toggleable__content {max-height: 0;max-width: 0;overflow: hidden;text-align: left;background-color: #f0f8ff;}#sk-container-id-9 div.sk-toggleable__content pre {margin: 0.2em;color: black;border-radius: 0.25em;background-color: #f0f8ff;}#sk-container-id-9 input.sk-toggleable__control:checked~div.sk-toggleable__content {max-height: 200px;max-width: 100%;overflow: auto;}#sk-container-id-9 input.sk-toggleable__control:checked~label.sk-toggleable__label-arrow:before {content: \"▾\";}#sk-container-id-9 div.sk-estimator input.sk-toggleable__control:checked~label.sk-toggleable__label {background-color: #d4ebff;}#sk-container-id-9 div.sk-label input.sk-toggleable__control:checked~label.sk-toggleable__label {background-color: #d4ebff;}#sk-container-id-9 input.sk-hidden--visually {border: 0;clip: rect(1px 1px 1px 1px);clip: rect(1px, 1px, 1px, 1px);height: 1px;margin: -1px;overflow: hidden;padding: 0;position: absolute;width: 1px;}#sk-container-id-9 div.sk-estimator {font-family: monospace;background-color: #f0f8ff;border: 1px dotted black;border-radius: 0.25em;box-sizing: border-box;margin-bottom: 0.5em;}#sk-container-id-9 div.sk-estimator:hover {background-color: #d4ebff;}#sk-container-id-9 div.sk-parallel-item::after {content: \"\";width: 100%;border-bottom: 1px solid gray;flex-grow: 1;}#sk-container-id-9 div.sk-label:hover label.sk-toggleable__label {background-color: #d4ebff;}#sk-container-id-9 div.sk-serial::before {content: \"\";position: absolute;border-left: 1px solid gray;box-sizing: border-box;top: 0;bottom: 0;left: 50%;z-index: 0;}#sk-container-id-9 div.sk-serial {display: flex;flex-direction: column;align-items: center;background-color: white;padding-right: 0.2em;padding-left: 0.2em;position: relative;}#sk-container-id-9 div.sk-item {position: relative;z-index: 1;}#sk-container-id-9 div.sk-parallel {display: flex;align-items: stretch;justify-content: center;background-color: white;position: relative;}#sk-container-id-9 div.sk-item::before, #sk-container-id-9 div.sk-parallel-item::before {content: \"\";position: absolute;border-left: 1px solid gray;box-sizing: border-box;top: 0;bottom: 0;left: 50%;z-index: -1;}#sk-container-id-9 div.sk-parallel-item {display: flex;flex-direction: column;z-index: 1;position: relative;background-color: white;}#sk-container-id-9 div.sk-parallel-item:first-child::after {align-self: flex-end;width: 50%;}#sk-container-id-9 div.sk-parallel-item:last-child::after {align-self: flex-start;width: 50%;}#sk-container-id-9 div.sk-parallel-item:only-child::after {width: 0;}#sk-container-id-9 div.sk-dashed-wrapped {border: 1px dashed gray;margin: 0 0.4em 0.5em 0.4em;box-sizing: border-box;padding-bottom: 0.4em;background-color: white;}#sk-container-id-9 div.sk-label label {font-family: monospace;font-weight: bold;display: inline-block;line-height: 1.2em;}#sk-container-id-9 div.sk-label-container {text-align: center;}#sk-container-id-9 div.sk-container {/* jupyter's `normalize.less` sets `[hidden] { display: none; }` but bootstrap.min.css set `[hidden] { display: none !important; }` so we also need the `!important` here to be able to override the default hidden behavior on the sphinx rendered scikit-learn.org. See: https://github.com/scikit-learn/scikit-learn/issues/21755 */display: inline-block !important;position: relative;}#sk-container-id-9 div.sk-text-repr-fallback {display: none;}</style><div id=\"sk-container-id-9\" class=\"sk-top-container\"><div class=\"sk-text-repr-fallback\"><pre>RandomForestClassifier(n_estimators=50)</pre><b>In a Jupyter environment, please rerun this cell to show the HTML representation or trust the notebook. <br />On GitHub, the HTML representation is unable to render, please try loading this page with nbviewer.org.</b></div><div class=\"sk-container\" hidden><div class=\"sk-item\"><div class=\"sk-estimator sk-toggleable\"><input class=\"sk-toggleable__control sk-hidden--visually\" id=\"sk-estimator-id-15\" type=\"checkbox\" checked><label for=\"sk-estimator-id-15\" class=\"sk-toggleable__label sk-toggleable__label-arrow\">RandomForestClassifier</label><div class=\"sk-toggleable__content\"><pre>RandomForestClassifier(n_estimators=50)</pre></div></div></div></div></div>"
      ],
      "text/plain": [
       "RandomForestClassifier(n_estimators=50)"
      ]
     },
     "execution_count": 180,
     "metadata": {},
     "output_type": "execute_result"
    }
   ],
   "source": [
    "RF_model.fit(X_train,y_train)"
   ]
  },
  {
   "cell_type": "code",
   "execution_count": 182,
   "id": "25470d5d-6041-45c6-a82f-8e1fe24fabd6",
   "metadata": {},
   "outputs": [],
   "source": [
    "y_pred_RF=RF_model.predict(X_test)"
   ]
  },
  {
   "cell_type": "code",
   "execution_count": 183,
   "id": "cc5aeadd-b297-4bcf-87ed-74389a9d1243",
   "metadata": {},
   "outputs": [
    {
     "data": {
      "text/plain": [
       "0.6800847457627118"
      ]
     },
     "execution_count": 183,
     "metadata": {},
     "output_type": "execute_result"
    }
   ],
   "source": [
    "accuracy_score(y_test,y_pred_RF)"
   ]
  },
  {
   "cell_type": "code",
   "execution_count": 184,
   "id": "fe15e834-d480-4fbf-87b7-199ada5469ed",
   "metadata": {},
   "outputs": [
    {
     "data": {
      "text/html": [
       "<div>\n",
       "<style scoped>\n",
       "    .dataframe tbody tr th:only-of-type {\n",
       "        vertical-align: middle;\n",
       "    }\n",
       "\n",
       "    .dataframe tbody tr th {\n",
       "        vertical-align: top;\n",
       "    }\n",
       "\n",
       "    .dataframe thead th {\n",
       "        text-align: right;\n",
       "    }\n",
       "</style>\n",
       "<table border=\"1\" class=\"dataframe\">\n",
       "  <thead>\n",
       "    <tr style=\"text-align: right;\">\n",
       "      <th></th>\n",
       "      <th>Temp_C</th>\n",
       "      <th>Dew Point Temp_C</th>\n",
       "      <th>Rel Hum_%</th>\n",
       "      <th>Wind Speed_km/h</th>\n",
       "      <th>Visibility_km</th>\n",
       "      <th>Press_kPa</th>\n",
       "      <th>Std_Weather</th>\n",
       "    </tr>\n",
       "  </thead>\n",
       "  <tbody>\n",
       "    <tr>\n",
       "      <th>292</th>\n",
       "      <td>-5.0</td>\n",
       "      <td>-7.4</td>\n",
       "      <td>83</td>\n",
       "      <td>24</td>\n",
       "      <td>11.3</td>\n",
       "      <td>99.13</td>\n",
       "      <td>1</td>\n",
       "    </tr>\n",
       "    <tr>\n",
       "      <th>8100</th>\n",
       "      <td>3.9</td>\n",
       "      <td>1.3</td>\n",
       "      <td>83</td>\n",
       "      <td>9</td>\n",
       "      <td>24.1</td>\n",
       "      <td>101.96</td>\n",
       "      <td>1</td>\n",
       "    </tr>\n",
       "    <tr>\n",
       "      <th>7164</th>\n",
       "      <td>11.3</td>\n",
       "      <td>1.4</td>\n",
       "      <td>50</td>\n",
       "      <td>13</td>\n",
       "      <td>24.1</td>\n",
       "      <td>101.77</td>\n",
       "      <td>1</td>\n",
       "    </tr>\n",
       "    <tr>\n",
       "      <th>2336</th>\n",
       "      <td>4.5</td>\n",
       "      <td>-9.3</td>\n",
       "      <td>36</td>\n",
       "      <td>11</td>\n",
       "      <td>48.3</td>\n",
       "      <td>101.51</td>\n",
       "      <td>1</td>\n",
       "    </tr>\n",
       "    <tr>\n",
       "      <th>4872</th>\n",
       "      <td>22.7</td>\n",
       "      <td>14.9</td>\n",
       "      <td>61</td>\n",
       "      <td>11</td>\n",
       "      <td>25.0</td>\n",
       "      <td>101.19</td>\n",
       "      <td>1</td>\n",
       "    </tr>\n",
       "  </tbody>\n",
       "</table>\n",
       "</div>"
      ],
      "text/plain": [
       "      Temp_C  Dew Point Temp_C  Rel Hum_%  Wind Speed_km/h  Visibility_km  \\\n",
       "292     -5.0              -7.4         83               24           11.3   \n",
       "8100     3.9               1.3         83                9           24.1   \n",
       "7164    11.3               1.4         50               13           24.1   \n",
       "2336     4.5              -9.3         36               11           48.3   \n",
       "4872    22.7              14.9         61               11           25.0   \n",
       "\n",
       "      Press_kPa  Std_Weather  \n",
       "292       99.13            1  \n",
       "8100     101.96            1  \n",
       "7164     101.77            1  \n",
       "2336     101.51            1  \n",
       "4872     101.19            1  "
      ]
     },
     "execution_count": 184,
     "metadata": {},
     "output_type": "execute_result"
    }
   ],
   "source": [
    "weather_df.head()"
   ]
  },
  {
   "cell_type": "code",
   "execution_count": 190,
   "id": "2b26995e-c127-4a63-ae3c-d4979c30a9cf",
   "metadata": {},
   "outputs": [
    {
     "name": "stdin",
     "output_type": "stream",
     "text": [
      "Enter the Temperature in Celcius =  67\n",
      "Enter the Dew point Temp_C =  89\n",
      "Enter the Relative humidity %=  34\n",
      "Enter the Wind Speed(km/hr) =  90\n",
      "Enter the Visibility_km =  13\n",
      "Enter the Pressure_kpa =  56\n"
     ]
    }
   ],
   "source": [
    "Temperature = float(input(\"Enter the Temperature in Celcius = \"))\n",
    "Dew_point = float(input(\"Enter the Dew point Temp_C = \"))\n",
    "Relative_humidity = float(input(\"Enter the Relative humidity %= \"))\n",
    "Wind_Speed = float(input(\"Enter the Wind Speed(km/hr) = \"))\n",
    "Visibility = float(input(\"Enter the Visibility_km = \"))\n",
    "Pressure = float(input(\"Enter the Pressure_kpa = \"))\n"
   ]
  },
  {
   "cell_type": "code",
   "execution_count": 191,
   "id": "f154ded5-c8ea-48c5-b8aa-358af960051a",
   "metadata": {},
   "outputs": [
    {
     "data": {
      "text/plain": [
       "array([0])"
      ]
     },
     "execution_count": 191,
     "metadata": {},
     "output_type": "execute_result"
    }
   ],
   "source": [
    "input_data = [Temperature,Dew_point,Relative_humidity,Wind_Speed,Visibility,Pressure]\n",
    "scaled_data = std_scaler.transform([input_data])\n",
    "prediction = RF_model.predict(scaled_data)\n",
    "prediction"
   ]
  },
  {
   "cell_type": "code",
   "execution_count": 194,
   "id": "51af7433-0781-4cd3-b045-66034f899c7a",
   "metadata": {},
   "outputs": [
    {
     "name": "stdout",
     "output_type": "stream",
     "text": [
      "Weather is CLEAR \n"
     ]
    }
   ],
   "source": [
    "if prediction[0] == 0:\n",
    "    print('Weather is CLEAR ')\n",
    "elif prediction[0] == 1:\n",
    "    print('Weather is CLOUDY')\n",
    "elif prediction[0] == 2:\n",
    "    print('Weather is RAINY')\n",
    "else:\n",
    "    print('Weather is SNOWY')\n"
   ]
  },
  {
   "cell_type": "markdown",
   "id": "dc531ae9-798a-40d9-a5d8-7953021b588a",
   "metadata": {},
   "source": [
    "### WEATHER  PREDICTION  MODEL"
   ]
  },
  {
   "cell_type": "code",
   "execution_count": 197,
   "id": "f6f15eca-3af7-4d28-b555-d29bef9b6bec",
   "metadata": {},
   "outputs": [
    {
     "name": "stdin",
     "output_type": "stream",
     "text": [
      "Enter the Temperature in Celcius =  12\n",
      "Enter the Dew point Temp_C =  -10.2\n",
      "Enter the Relative humidity %=  64\n",
      "Enter the Wind Speed(km/hr) =  20\n",
      "Enter the Visibility_km =  19\n",
      "Enter the Pressure_kpa =  100.2\n"
     ]
    },
    {
     "name": "stdout",
     "output_type": "stream",
     "text": [
      "\n",
      "************Weather Prediction Model************\n",
      "\n",
      "Weather is SNOWY\n"
     ]
    }
   ],
   "source": [
    "Temperature = float(input(\"Enter the Temperature in Celcius = \"))\n",
    "Dew_point = float(input(\"Enter the Dew point Temp_C = \"))\n",
    "Relative_humidity = float(input(\"Enter the Relative humidity %= \"))\n",
    "Wind_Speed = float(input(\"Enter the Wind Speed(km/hr) = \"))\n",
    "Visibility = float(input(\"Enter the Visibility_km = \"))\n",
    "Pressure = float(input(\"Enter the Pressure_kpa = \"))\n",
    "\n",
    "input_data = [Temperature,Dew_point,Relative_humidity,Wind_Speed,Visibility,Pressure]\n",
    "scaled_data = std_scaler.transform([input_data])\n",
    "prediction = RF_model.predict(scaled_data)\n",
    "\n",
    "print(\"\")\n",
    "print(\"************Weather Prediction Model************\")\n",
    "print(\"\")\n",
    "\n",
    "if prediction[0] == 0:\n",
    "    print('Weather is CLEAR ')\n",
    "elif prediction[0] == 1:\n",
    "    print('Weather is CLOUDY')\n",
    "elif prediction[0] == 2:\n",
    "    print('Weather is RAINY')\n",
    "else:\n",
    "    print('Weather is SNOWY')\n",
    "\n"
   ]
  },
  {
   "cell_type": "code",
   "execution_count": 198,
   "id": "51521d81-4a34-45e9-b4e3-85874374bbca",
   "metadata": {},
   "outputs": [],
   "source": [
    "import pickle"
   ]
  },
  {
   "cell_type": "code",
   "execution_count": 201,
   "id": "461e97dc-65c3-4f25-ae2b-dc00cd4f037c",
   "metadata": {},
   "outputs": [],
   "source": [
    "import pickle\n",
    "\n",
    "# Save the model to a file\n",
    "with open('weather_prediction_model.pkl', 'wb') as file:\n",
    "    pickle.dump(RF_model, file)"
   ]
  }
 ],
 "metadata": {
  "kernelspec": {
   "display_name": "Python 3 (ipykernel)",
   "language": "python",
   "name": "python3"
  },
  "language_info": {
   "codemirror_mode": {
    "name": "ipython",
    "version": 3
   },
   "file_extension": ".py",
   "mimetype": "text/x-python",
   "name": "python",
   "nbconvert_exporter": "python",
   "pygments_lexer": "ipython3",
   "version": "3.12.3"
  },
  "widgets": {
   "application/vnd.jupyter.widget-state+json": {
    "state": {},
    "version_major": 2,
    "version_minor": 0
   }
  }
 },
 "nbformat": 4,
 "nbformat_minor": 5
}
